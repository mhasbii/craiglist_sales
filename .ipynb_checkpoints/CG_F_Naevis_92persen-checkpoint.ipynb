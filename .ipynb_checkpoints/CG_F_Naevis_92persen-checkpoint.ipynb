{
 "cells": [
  {
   "cell_type": "markdown",
   "metadata": {
    "id": "v3EPMiHQ0Q8l"
   },
   "source": [
    "<center>\n",
    "<img src=\"https://drive.google.com/uc?id=1f1gGVI-rxcHjA90WEGNvvtSXF1pAxQwg\" alt=\"Fasilkom UI\" width=\"300\"/>\n",
    "\n",
    "CSGE603130 • Kecerdasan Artifisial dan Sains Data Dasar\n",
    "\n",
    "Semester Ganjil 2021/2022\n",
    "\n",
    "Fakultas Ilmu Komputer, Universitas Indonesia\n",
    "\n",
    "##**Tugas Akhir: *Craiglist Sales***\n",
    "\n",
    "###**Tenggat Waktu: 26 Desember 2021, 23.55 WIB**\n",
    "</center>\n"
   ]
  },
  {
   "cell_type": "markdown",
   "metadata": {
    "id": "QXZi88uy0lWc"
   },
   "source": [
    "## **Pernyataan Integritas**\n",
    "\n",
    "Wajib diisi. Tanpa pernyataan integritas submisi akan dikenakan pinalti."
   ]
  },
  {
   "cell_type": "markdown",
   "metadata": {
    "id": "4SLtydH-2xiQ"
   },
   "source": [
    "#### Anggota Kelompok\n",
    "- Fiorentine Phillips - 1906298916\n",
    "- Muhammad Hasbi - 1906398811\n",
    "- Fadiya Latifah - 1906399442\n",
    "- Annisa Amalia Sholeka - 1906354002"
   ]
  },
  {
   "cell_type": "markdown",
   "metadata": {
    "id": "fcA7oJtK3dKj"
   },
   "source": [
    "#### Penyataan Integritas\n",
    "Kami, Nævis dari kelas F, menyatakan bahwa seluruh jawaban pada pekerjaan ini murni kerjakan kelompok kami sendiri.\n",
    "Kami tidak mencontek jawaban, memberikan jawaban, maupun menyalin dari sumber manapun.\n",
    "Jika kami melanggar pernyataan tersebut, kami siap menerima konsekuensi apapun yang diberikan\n",
    "\n",
    "Naevis"
   ]
  },
  {
   "cell_type": "markdown",
   "metadata": {
    "id": "dSn8x1AX3zP-"
   },
   "source": [
    "#### Sumber Referensi"
   ]
  },
  {
   "cell_type": "code",
   "execution_count": null,
   "metadata": {
    "id": "6xvPw0jGzlbx"
   },
   "outputs": [],
   "source": [
    "# Isi dengan sumber referensi yang Anda gunakan dalam mengerjakan\n",
    "REFERENSI = []"
   ]
  },
  {
   "cell_type": "code",
   "execution_count": 1,
   "metadata": {
    "id": "FEy652fK4NT2"
   },
   "outputs": [],
   "source": [
    "# Import library yang dibutuhkan\n",
    "\n",
    "import numpy as np\n",
    "import pandas as pd\n",
    "import seaborn as sns\n",
    "import matplotlib.pyplot as plt\n",
    "from sklearn.model_selection import train_test_split\n",
    "from pandas.plotting import parallel_coordinates\n",
    "from sklearn.preprocessing import MinMaxScaler\n",
    "from sklearn import preprocessing, linear_model, model_selection, metrics, svm, ensemble, tree\n",
    "from sklearn.metrics import mean_absolute_error, mean_squared_error"
   ]
  },
  {
   "cell_type": "code",
   "execution_count": null,
   "metadata": {
    "colab": {
     "base_uri": "https://localhost:8080/"
    },
    "id": "NkWobRHM4RKB",
    "outputId": "d0cdb542-329c-4abc-b02f-01262163adaa"
   },
   "outputs": [
    {
     "name": "stdout",
     "output_type": "stream",
     "text": [
      "Drive already mounted at /content/drive; to attempt to forcibly remount, call drive.mount(\"/content/drive\", force_remount=True).\n"
     ]
    }
   ],
   "source": [
    "from google.colab import drive\n",
    "drive.mount('/content/drive')"
   ]
  },
  {
   "cell_type": "code",
   "execution_count": 2,
   "metadata": {
    "colab": {
     "base_uri": "https://localhost:8080/",
     "height": 305
    },
    "id": "uE2iJt9X4QO_",
    "outputId": "6f65a1f6-1f98-4434-956b-687b1d4024cb"
   },
   "outputs": [
    {
     "data": {
      "text/html": [
       "<div>\n",
       "<style scoped>\n",
       "    .dataframe tbody tr th:only-of-type {\n",
       "        vertical-align: middle;\n",
       "    }\n",
       "\n",
       "    .dataframe tbody tr th {\n",
       "        vertical-align: top;\n",
       "    }\n",
       "\n",
       "    .dataframe thead th {\n",
       "        text-align: right;\n",
       "    }\n",
       "</style>\n",
       "<table border=\"1\" class=\"dataframe\">\n",
       "  <thead>\n",
       "    <tr style=\"text-align: right;\">\n",
       "      <th></th>\n",
       "      <th>id</th>\n",
       "      <th>url</th>\n",
       "      <th>region</th>\n",
       "      <th>region_url</th>\n",
       "      <th>price</th>\n",
       "      <th>year</th>\n",
       "      <th>manufacturer</th>\n",
       "      <th>model</th>\n",
       "      <th>condition</th>\n",
       "      <th>cylinders</th>\n",
       "      <th>...</th>\n",
       "      <th>size</th>\n",
       "      <th>type</th>\n",
       "      <th>paint_color</th>\n",
       "      <th>image_url</th>\n",
       "      <th>description</th>\n",
       "      <th>county</th>\n",
       "      <th>state</th>\n",
       "      <th>lat</th>\n",
       "      <th>long</th>\n",
       "      <th>posting_date</th>\n",
       "    </tr>\n",
       "  </thead>\n",
       "  <tbody>\n",
       "    <tr>\n",
       "      <th>0</th>\n",
       "      <td>7222695916</td>\n",
       "      <td>https://prescott.craigslist.org/cto/d/prescott...</td>\n",
       "      <td>prescott</td>\n",
       "      <td>https://prescott.craigslist.org</td>\n",
       "      <td>6000</td>\n",
       "      <td>NaN</td>\n",
       "      <td>NaN</td>\n",
       "      <td>NaN</td>\n",
       "      <td>NaN</td>\n",
       "      <td>NaN</td>\n",
       "      <td>...</td>\n",
       "      <td>NaN</td>\n",
       "      <td>NaN</td>\n",
       "      <td>NaN</td>\n",
       "      <td>NaN</td>\n",
       "      <td>NaN</td>\n",
       "      <td>NaN</td>\n",
       "      <td>az</td>\n",
       "      <td>NaN</td>\n",
       "      <td>NaN</td>\n",
       "      <td>NaN</td>\n",
       "    </tr>\n",
       "    <tr>\n",
       "      <th>1</th>\n",
       "      <td>7218891961</td>\n",
       "      <td>https://fayar.craigslist.org/ctd/d/bentonville...</td>\n",
       "      <td>fayetteville</td>\n",
       "      <td>https://fayar.craigslist.org</td>\n",
       "      <td>11900</td>\n",
       "      <td>NaN</td>\n",
       "      <td>NaN</td>\n",
       "      <td>NaN</td>\n",
       "      <td>NaN</td>\n",
       "      <td>NaN</td>\n",
       "      <td>...</td>\n",
       "      <td>NaN</td>\n",
       "      <td>NaN</td>\n",
       "      <td>NaN</td>\n",
       "      <td>NaN</td>\n",
       "      <td>NaN</td>\n",
       "      <td>NaN</td>\n",
       "      <td>ar</td>\n",
       "      <td>NaN</td>\n",
       "      <td>NaN</td>\n",
       "      <td>NaN</td>\n",
       "    </tr>\n",
       "    <tr>\n",
       "      <th>2</th>\n",
       "      <td>7221797935</td>\n",
       "      <td>https://keys.craigslist.org/cto/d/summerland-k...</td>\n",
       "      <td>florida keys</td>\n",
       "      <td>https://keys.craigslist.org</td>\n",
       "      <td>21000</td>\n",
       "      <td>NaN</td>\n",
       "      <td>NaN</td>\n",
       "      <td>NaN</td>\n",
       "      <td>NaN</td>\n",
       "      <td>NaN</td>\n",
       "      <td>...</td>\n",
       "      <td>NaN</td>\n",
       "      <td>NaN</td>\n",
       "      <td>NaN</td>\n",
       "      <td>NaN</td>\n",
       "      <td>NaN</td>\n",
       "      <td>NaN</td>\n",
       "      <td>fl</td>\n",
       "      <td>NaN</td>\n",
       "      <td>NaN</td>\n",
       "      <td>NaN</td>\n",
       "    </tr>\n",
       "    <tr>\n",
       "      <th>3</th>\n",
       "      <td>7222270760</td>\n",
       "      <td>https://worcester.craigslist.org/cto/d/west-br...</td>\n",
       "      <td>worcester / central MA</td>\n",
       "      <td>https://worcester.craigslist.org</td>\n",
       "      <td>1500</td>\n",
       "      <td>NaN</td>\n",
       "      <td>NaN</td>\n",
       "      <td>NaN</td>\n",
       "      <td>NaN</td>\n",
       "      <td>NaN</td>\n",
       "      <td>...</td>\n",
       "      <td>NaN</td>\n",
       "      <td>NaN</td>\n",
       "      <td>NaN</td>\n",
       "      <td>NaN</td>\n",
       "      <td>NaN</td>\n",
       "      <td>NaN</td>\n",
       "      <td>ma</td>\n",
       "      <td>NaN</td>\n",
       "      <td>NaN</td>\n",
       "      <td>NaN</td>\n",
       "    </tr>\n",
       "    <tr>\n",
       "      <th>4</th>\n",
       "      <td>7210384030</td>\n",
       "      <td>https://greensboro.craigslist.org/cto/d/trinit...</td>\n",
       "      <td>greensboro</td>\n",
       "      <td>https://greensboro.craigslist.org</td>\n",
       "      <td>4900</td>\n",
       "      <td>NaN</td>\n",
       "      <td>NaN</td>\n",
       "      <td>NaN</td>\n",
       "      <td>NaN</td>\n",
       "      <td>NaN</td>\n",
       "      <td>...</td>\n",
       "      <td>NaN</td>\n",
       "      <td>NaN</td>\n",
       "      <td>NaN</td>\n",
       "      <td>NaN</td>\n",
       "      <td>NaN</td>\n",
       "      <td>NaN</td>\n",
       "      <td>nc</td>\n",
       "      <td>NaN</td>\n",
       "      <td>NaN</td>\n",
       "      <td>NaN</td>\n",
       "    </tr>\n",
       "  </tbody>\n",
       "</table>\n",
       "<p>5 rows × 26 columns</p>\n",
       "</div>"
      ],
      "text/plain": [
       "           id                                                url  \\\n",
       "0  7222695916  https://prescott.craigslist.org/cto/d/prescott...   \n",
       "1  7218891961  https://fayar.craigslist.org/ctd/d/bentonville...   \n",
       "2  7221797935  https://keys.craigslist.org/cto/d/summerland-k...   \n",
       "3  7222270760  https://worcester.craigslist.org/cto/d/west-br...   \n",
       "4  7210384030  https://greensboro.craigslist.org/cto/d/trinit...   \n",
       "\n",
       "                   region                         region_url  price  year  \\\n",
       "0                prescott    https://prescott.craigslist.org   6000   NaN   \n",
       "1            fayetteville       https://fayar.craigslist.org  11900   NaN   \n",
       "2            florida keys        https://keys.craigslist.org  21000   NaN   \n",
       "3  worcester / central MA   https://worcester.craigslist.org   1500   NaN   \n",
       "4              greensboro  https://greensboro.craigslist.org   4900   NaN   \n",
       "\n",
       "  manufacturer model condition cylinders  ... size  type paint_color  \\\n",
       "0          NaN   NaN       NaN       NaN  ...  NaN   NaN         NaN   \n",
       "1          NaN   NaN       NaN       NaN  ...  NaN   NaN         NaN   \n",
       "2          NaN   NaN       NaN       NaN  ...  NaN   NaN         NaN   \n",
       "3          NaN   NaN       NaN       NaN  ...  NaN   NaN         NaN   \n",
       "4          NaN   NaN       NaN       NaN  ...  NaN   NaN         NaN   \n",
       "\n",
       "  image_url description county state lat long posting_date  \n",
       "0       NaN         NaN    NaN    az NaN  NaN          NaN  \n",
       "1       NaN         NaN    NaN    ar NaN  NaN          NaN  \n",
       "2       NaN         NaN    NaN    fl NaN  NaN          NaN  \n",
       "3       NaN         NaN    NaN    ma NaN  NaN          NaN  \n",
       "4       NaN         NaN    NaN    nc NaN  NaN          NaN  \n",
       "\n",
       "[5 rows x 26 columns]"
      ]
     },
     "execution_count": 2,
     "metadata": {},
     "output_type": "execute_result"
    }
   ],
   "source": [
    "# Import data diet_data\n",
    "vehicles = pd.read_csv('vehicles.csv')\n",
    "vehicles.head()"
   ]
  },
  {
   "cell_type": "code",
   "execution_count": 3,
   "metadata": {
    "id": "VywXvP9j4yml"
   },
   "outputs": [],
   "source": [
    "vehicles.drop('county', axis=1, inplace=True)"
   ]
  },
  {
   "cell_type": "code",
   "execution_count": 4,
   "metadata": {
    "colab": {
     "base_uri": "https://localhost:8080/"
    },
    "id": "pt0wkTEgBWeT",
    "outputId": "4ec66794-903e-4554-9481-385a716117bd"
   },
   "outputs": [
    {
     "name": "stdout",
     "output_type": "stream",
     "text": [
      "Dimensi data:  (426880, 25)\n"
     ]
    }
   ],
   "source": [
    "# Membaca kolom-kolom pada DataFrame\n",
    "print(\"Dimensi data: \", vehicles.shape)\n"
   ]
  },
  {
   "cell_type": "code",
   "execution_count": 5,
   "metadata": {
    "colab": {
     "base_uri": "https://localhost:8080/"
    },
    "id": "ymdIgutLTEPT",
    "outputId": "a7b9386b-c9ab-4ece-aac5-a3eb0e6ee763"
   },
   "outputs": [
    {
     "name": "stdout",
     "output_type": "stream",
     "text": [
      "<class 'pandas.core.frame.DataFrame'>\n",
      "RangeIndex: 426880 entries, 0 to 426879\n",
      "Data columns (total 25 columns):\n",
      " #   Column        Non-Null Count   Dtype  \n",
      "---  ------        --------------   -----  \n",
      " 0   id            426880 non-null  int64  \n",
      " 1   url           426880 non-null  object \n",
      " 2   region        426880 non-null  object \n",
      " 3   region_url    426880 non-null  object \n",
      " 4   price         426880 non-null  int64  \n",
      " 5   year          425675 non-null  float64\n",
      " 6   manufacturer  409234 non-null  object \n",
      " 7   model         421603 non-null  object \n",
      " 8   condition     252776 non-null  object \n",
      " 9   cylinders     249202 non-null  object \n",
      " 10  fuel          423867 non-null  object \n",
      " 11  odometer      422480 non-null  float64\n",
      " 12  title_status  418638 non-null  object \n",
      " 13  transmission  424324 non-null  object \n",
      " 14  VIN           265838 non-null  object \n",
      " 15  drive         296313 non-null  object \n",
      " 16  size          120519 non-null  object \n",
      " 17  type          334022 non-null  object \n",
      " 18  paint_color   296677 non-null  object \n",
      " 19  image_url     426812 non-null  object \n",
      " 20  description   426810 non-null  object \n",
      " 21  state         426880 non-null  object \n",
      " 22  lat           420331 non-null  float64\n",
      " 23  long          420331 non-null  float64\n",
      " 24  posting_date  426812 non-null  object \n",
      "dtypes: float64(4), int64(2), object(19)\n",
      "memory usage: 81.4+ MB\n",
      "info:  None\n"
     ]
    }
   ],
   "source": [
    "# Membaca info dari atribut\n",
    "print(\"info: \", vehicles.info())"
   ]
  },
  {
   "cell_type": "code",
   "execution_count": 6,
   "metadata": {
    "colab": {
     "base_uri": "https://localhost:8080/"
    },
    "id": "7ELcXBgITH8V",
    "outputId": "3af286bd-48ec-456f-e78c-113b39812915"
   },
   "outputs": [
    {
     "name": "stdout",
     "output_type": "stream",
     "text": [
      "object     19\n",
      "float64     4\n",
      "int64       2\n",
      "dtype: int64\n"
     ]
    }
   ],
   "source": [
    "# Jumlah atribut numerik dan kategorik\n",
    "print(vehicles.dtypes.value_counts())"
   ]
  },
  {
   "cell_type": "markdown",
   "metadata": {
    "id": "wXjjkZekTVK5"
   },
   "source": [
    "Dari code di atas, didapatkan bahwa terdapat 19 atribut kategorik, dan 6 atribut numerik"
   ]
  },
  {
   "cell_type": "code",
   "execution_count": 7,
   "metadata": {
    "colab": {
     "base_uri": "https://localhost:8080/",
     "height": 300
    },
    "id": "9ihdqzBYTaGH",
    "outputId": "86e6b5c7-1b2e-4ebe-ac8e-1542f1da3792"
   },
   "outputs": [
    {
     "data": {
      "text/html": [
       "<div>\n",
       "<style scoped>\n",
       "    .dataframe tbody tr th:only-of-type {\n",
       "        vertical-align: middle;\n",
       "    }\n",
       "\n",
       "    .dataframe tbody tr th {\n",
       "        vertical-align: top;\n",
       "    }\n",
       "\n",
       "    .dataframe thead th {\n",
       "        text-align: right;\n",
       "    }\n",
       "</style>\n",
       "<table border=\"1\" class=\"dataframe\">\n",
       "  <thead>\n",
       "    <tr style=\"text-align: right;\">\n",
       "      <th></th>\n",
       "      <th>id</th>\n",
       "      <th>price</th>\n",
       "      <th>year</th>\n",
       "      <th>odometer</th>\n",
       "      <th>lat</th>\n",
       "      <th>long</th>\n",
       "    </tr>\n",
       "  </thead>\n",
       "  <tbody>\n",
       "    <tr>\n",
       "      <th>count</th>\n",
       "      <td>4.268800e+05</td>\n",
       "      <td>4.268800e+05</td>\n",
       "      <td>425675.000000</td>\n",
       "      <td>4.224800e+05</td>\n",
       "      <td>420331.000000</td>\n",
       "      <td>420331.000000</td>\n",
       "    </tr>\n",
       "    <tr>\n",
       "      <th>mean</th>\n",
       "      <td>7.311487e+09</td>\n",
       "      <td>7.519903e+04</td>\n",
       "      <td>2011.235191</td>\n",
       "      <td>9.804333e+04</td>\n",
       "      <td>38.493940</td>\n",
       "      <td>-94.748599</td>\n",
       "    </tr>\n",
       "    <tr>\n",
       "      <th>std</th>\n",
       "      <td>4.473170e+06</td>\n",
       "      <td>1.218228e+07</td>\n",
       "      <td>9.452120</td>\n",
       "      <td>2.138815e+05</td>\n",
       "      <td>5.841533</td>\n",
       "      <td>18.365462</td>\n",
       "    </tr>\n",
       "    <tr>\n",
       "      <th>min</th>\n",
       "      <td>7.207408e+09</td>\n",
       "      <td>0.000000e+00</td>\n",
       "      <td>1900.000000</td>\n",
       "      <td>0.000000e+00</td>\n",
       "      <td>-84.122245</td>\n",
       "      <td>-159.827728</td>\n",
       "    </tr>\n",
       "    <tr>\n",
       "      <th>25%</th>\n",
       "      <td>7.308143e+09</td>\n",
       "      <td>5.900000e+03</td>\n",
       "      <td>2008.000000</td>\n",
       "      <td>3.770400e+04</td>\n",
       "      <td>34.601900</td>\n",
       "      <td>-111.939847</td>\n",
       "    </tr>\n",
       "    <tr>\n",
       "      <th>50%</th>\n",
       "      <td>7.312621e+09</td>\n",
       "      <td>1.395000e+04</td>\n",
       "      <td>2013.000000</td>\n",
       "      <td>8.554800e+04</td>\n",
       "      <td>39.150100</td>\n",
       "      <td>-88.432600</td>\n",
       "    </tr>\n",
       "    <tr>\n",
       "      <th>75%</th>\n",
       "      <td>7.315254e+09</td>\n",
       "      <td>2.648575e+04</td>\n",
       "      <td>2017.000000</td>\n",
       "      <td>1.335425e+05</td>\n",
       "      <td>42.398900</td>\n",
       "      <td>-80.832039</td>\n",
       "    </tr>\n",
       "    <tr>\n",
       "      <th>max</th>\n",
       "      <td>7.317101e+09</td>\n",
       "      <td>3.736929e+09</td>\n",
       "      <td>2022.000000</td>\n",
       "      <td>1.000000e+07</td>\n",
       "      <td>82.390818</td>\n",
       "      <td>173.885502</td>\n",
       "    </tr>\n",
       "  </tbody>\n",
       "</table>\n",
       "</div>"
      ],
      "text/plain": [
       "                 id         price           year      odometer            lat  \\\n",
       "count  4.268800e+05  4.268800e+05  425675.000000  4.224800e+05  420331.000000   \n",
       "mean   7.311487e+09  7.519903e+04    2011.235191  9.804333e+04      38.493940   \n",
       "std    4.473170e+06  1.218228e+07       9.452120  2.138815e+05       5.841533   \n",
       "min    7.207408e+09  0.000000e+00    1900.000000  0.000000e+00     -84.122245   \n",
       "25%    7.308143e+09  5.900000e+03    2008.000000  3.770400e+04      34.601900   \n",
       "50%    7.312621e+09  1.395000e+04    2013.000000  8.554800e+04      39.150100   \n",
       "75%    7.315254e+09  2.648575e+04    2017.000000  1.335425e+05      42.398900   \n",
       "max    7.317101e+09  3.736929e+09    2022.000000  1.000000e+07      82.390818   \n",
       "\n",
       "                long  \n",
       "count  420331.000000  \n",
       "mean      -94.748599  \n",
       "std        18.365462  \n",
       "min      -159.827728  \n",
       "25%      -111.939847  \n",
       "50%       -88.432600  \n",
       "75%       -80.832039  \n",
       "max       173.885502  "
      ]
     },
     "execution_count": 7,
     "metadata": {},
     "output_type": "execute_result"
    }
   ],
   "source": [
    "# Describe data numerik\n",
    "vehicles.describe()"
   ]
  },
  {
   "cell_type": "code",
   "execution_count": 8,
   "metadata": {
    "colab": {
     "base_uri": "https://localhost:8080/",
     "height": 308
    },
    "id": "i-GLzA-WTdQ9",
    "outputId": "6798f650-ffe8-4e5b-e078-3299a0e57c62"
   },
   "outputs": [
    {
     "name": "stderr",
     "output_type": "stream",
     "text": [
      "/var/folders/gh/ys14pl_548q3n_mlxhsk4rt00000gn/T/ipykernel_7608/3452048890.py:2: DeprecationWarning: `np.object` is a deprecated alias for the builtin `object`. To silence this warning, use `object` by itself. Doing this will not modify any behavior and is safe. \n",
      "Deprecated in NumPy 1.20; for more details and guidance: https://numpy.org/devdocs/release/1.20.0-notes.html#deprecations\n",
      "  display(vehicles.describe(include=np.object))\n"
     ]
    },
    {
     "data": {
      "text/html": [
       "<div>\n",
       "<style scoped>\n",
       "    .dataframe tbody tr th:only-of-type {\n",
       "        vertical-align: middle;\n",
       "    }\n",
       "\n",
       "    .dataframe tbody tr th {\n",
       "        vertical-align: top;\n",
       "    }\n",
       "\n",
       "    .dataframe thead th {\n",
       "        text-align: right;\n",
       "    }\n",
       "</style>\n",
       "<table border=\"1\" class=\"dataframe\">\n",
       "  <thead>\n",
       "    <tr style=\"text-align: right;\">\n",
       "      <th></th>\n",
       "      <th>url</th>\n",
       "      <th>region</th>\n",
       "      <th>region_url</th>\n",
       "      <th>manufacturer</th>\n",
       "      <th>model</th>\n",
       "      <th>condition</th>\n",
       "      <th>cylinders</th>\n",
       "      <th>fuel</th>\n",
       "      <th>title_status</th>\n",
       "      <th>transmission</th>\n",
       "      <th>VIN</th>\n",
       "      <th>drive</th>\n",
       "      <th>size</th>\n",
       "      <th>type</th>\n",
       "      <th>paint_color</th>\n",
       "      <th>image_url</th>\n",
       "      <th>description</th>\n",
       "      <th>state</th>\n",
       "      <th>posting_date</th>\n",
       "    </tr>\n",
       "  </thead>\n",
       "  <tbody>\n",
       "    <tr>\n",
       "      <th>count</th>\n",
       "      <td>426880</td>\n",
       "      <td>426880</td>\n",
       "      <td>426880</td>\n",
       "      <td>409234</td>\n",
       "      <td>421603</td>\n",
       "      <td>252776</td>\n",
       "      <td>249202</td>\n",
       "      <td>423867</td>\n",
       "      <td>418638</td>\n",
       "      <td>424324</td>\n",
       "      <td>265838</td>\n",
       "      <td>296313</td>\n",
       "      <td>120519</td>\n",
       "      <td>334022</td>\n",
       "      <td>296677</td>\n",
       "      <td>426812</td>\n",
       "      <td>426810</td>\n",
       "      <td>426880</td>\n",
       "      <td>426812</td>\n",
       "    </tr>\n",
       "    <tr>\n",
       "      <th>unique</th>\n",
       "      <td>426880</td>\n",
       "      <td>404</td>\n",
       "      <td>413</td>\n",
       "      <td>42</td>\n",
       "      <td>29667</td>\n",
       "      <td>6</td>\n",
       "      <td>8</td>\n",
       "      <td>5</td>\n",
       "      <td>6</td>\n",
       "      <td>3</td>\n",
       "      <td>118264</td>\n",
       "      <td>3</td>\n",
       "      <td>4</td>\n",
       "      <td>13</td>\n",
       "      <td>12</td>\n",
       "      <td>241899</td>\n",
       "      <td>360911</td>\n",
       "      <td>51</td>\n",
       "      <td>381536</td>\n",
       "    </tr>\n",
       "    <tr>\n",
       "      <th>top</th>\n",
       "      <td>https://prescott.craigslist.org/cto/d/prescott...</td>\n",
       "      <td>columbus</td>\n",
       "      <td>https://spokane.craigslist.org</td>\n",
       "      <td>ford</td>\n",
       "      <td>f-150</td>\n",
       "      <td>good</td>\n",
       "      <td>6 cylinders</td>\n",
       "      <td>gas</td>\n",
       "      <td>clean</td>\n",
       "      <td>automatic</td>\n",
       "      <td>1FMJU1JT1HEA52352</td>\n",
       "      <td>4wd</td>\n",
       "      <td>full-size</td>\n",
       "      <td>sedan</td>\n",
       "      <td>white</td>\n",
       "      <td>https://images.craigslist.org/00N0N_1xMPvfxRAI...</td>\n",
       "      <td>35 VEHICLES PRICED UNDER $3000!!!  BIG TIME! T...</td>\n",
       "      <td>ca</td>\n",
       "      <td>2021-04-23T22:13:05-0400</td>\n",
       "    </tr>\n",
       "    <tr>\n",
       "      <th>freq</th>\n",
       "      <td>1</td>\n",
       "      <td>3608</td>\n",
       "      <td>2988</td>\n",
       "      <td>70985</td>\n",
       "      <td>8009</td>\n",
       "      <td>121456</td>\n",
       "      <td>94169</td>\n",
       "      <td>356209</td>\n",
       "      <td>405117</td>\n",
       "      <td>336524</td>\n",
       "      <td>261</td>\n",
       "      <td>131904</td>\n",
       "      <td>63465</td>\n",
       "      <td>87056</td>\n",
       "      <td>79285</td>\n",
       "      <td>7357</td>\n",
       "      <td>231</td>\n",
       "      <td>50614</td>\n",
       "      <td>12</td>\n",
       "    </tr>\n",
       "  </tbody>\n",
       "</table>\n",
       "</div>"
      ],
      "text/plain": [
       "                                                      url    region  \\\n",
       "count                                              426880    426880   \n",
       "unique                                             426880       404   \n",
       "top     https://prescott.craigslist.org/cto/d/prescott...  columbus   \n",
       "freq                                                    1      3608   \n",
       "\n",
       "                            region_url manufacturer   model condition  \\\n",
       "count                           426880       409234  421603    252776   \n",
       "unique                             413           42   29667         6   \n",
       "top     https://spokane.craigslist.org         ford   f-150      good   \n",
       "freq                              2988        70985    8009    121456   \n",
       "\n",
       "          cylinders    fuel title_status transmission                VIN  \\\n",
       "count        249202  423867       418638       424324             265838   \n",
       "unique            8       5            6            3             118264   \n",
       "top     6 cylinders     gas        clean    automatic  1FMJU1JT1HEA52352   \n",
       "freq          94169  356209       405117       336524                261   \n",
       "\n",
       "         drive       size    type paint_color  \\\n",
       "count   296313     120519  334022      296677   \n",
       "unique       3          4      13          12   \n",
       "top        4wd  full-size   sedan       white   \n",
       "freq    131904      63465   87056       79285   \n",
       "\n",
       "                                                image_url  \\\n",
       "count                                              426812   \n",
       "unique                                             241899   \n",
       "top     https://images.craigslist.org/00N0N_1xMPvfxRAI...   \n",
       "freq                                                 7357   \n",
       "\n",
       "                                              description   state  \\\n",
       "count                                              426810  426880   \n",
       "unique                                             360911      51   \n",
       "top     35 VEHICLES PRICED UNDER $3000!!!  BIG TIME! T...      ca   \n",
       "freq                                                  231   50614   \n",
       "\n",
       "                    posting_date  \n",
       "count                     426812  \n",
       "unique                    381536  \n",
       "top     2021-04-23T22:13:05-0400  \n",
       "freq                          12  "
      ]
     },
     "metadata": {},
     "output_type": "display_data"
    }
   ],
   "source": [
    "# Describe data kategorik\n",
    "display(vehicles.describe(include=np.object))"
   ]
  },
  {
   "cell_type": "code",
   "execution_count": 10,
   "metadata": {
    "colab": {
     "base_uri": "https://localhost:8080/"
    },
    "id": "OIPd_E2lTg0H",
    "outputId": "33b72cb8-02fe-4f11-893c-ad70ae65159e"
   },
   "outputs": [
    {
     "name": "stdout",
     "output_type": "stream",
     "text": [
      "               Total   Percent\n",
      "size          306361  0.717675\n",
      "cylinders     177678  0.416225\n",
      "condition     174104  0.407852\n",
      "VIN           161042  0.377254\n",
      "drive         130567  0.305863\n",
      "paint_color   130203  0.305011\n",
      "type           92858  0.217527\n",
      "manufacturer   17646  0.041337\n",
      "title_status    8242  0.019308\n",
      "lat             6549  0.015342\n",
      "long            6549  0.015342\n",
      "model           5277  0.012362\n",
      "odometer        4400  0.010307\n",
      "fuel            3013  0.007058\n",
      "transmission    2556  0.005988\n",
      "year            1205  0.002823\n",
      "description       70  0.000164\n",
      "image_url         68  0.000159\n",
      "posting_date      68  0.000159\n",
      "None\n"
     ]
    }
   ],
   "source": [
    "# Mencari jumlah missing value\n",
    "def cek_null(df):\n",
    "    col_na = df.isnull().sum().sort_values(ascending=False)\n",
    "    percent = col_na / len(df)\n",
    "    \n",
    "    missing_data = pd.concat([col_na, percent], axis=1, keys=['Total', 'Percent'])\n",
    "    print(missing_data[missing_data['Total'] > 0])\n",
    "\n",
    "# print(\"Jumlah missing values untuk Vehicle data: \\n\", vehicles.isnull().sum())\n",
    "print(cek_null(vehicles))"
   ]
  },
  {
   "cell_type": "markdown",
   "metadata": {
    "id": "btn_Y2ZUTqRQ"
   },
   "source": [
    "Berdasarkan hasil di atas, ternyata terdapat missing value pada 3 atribut, yaitu PctSomeCol18_24, PctEmployed16_Over, dan PctPrivateCoverageAlone"
   ]
  },
  {
   "cell_type": "code",
   "execution_count": 11,
   "metadata": {
    "colab": {
     "base_uri": "https://localhost:8080/"
    },
    "id": "OWpSmB8OT-Ce",
    "outputId": "66c78bc8-7c63-40bf-de37-57fcb5277614"
   },
   "outputs": [
    {
     "name": "stdout",
     "output_type": "stream",
     "text": [
      "Jumlah data yang redundant:  0\n"
     ]
    }
   ],
   "source": [
    "# Mencari duplikasi data\n",
    "sum_duplicate = vehicles.duplicated().sum()\n",
    "print(\"Jumlah data yang redundant: \", sum_duplicate)"
   ]
  },
  {
   "cell_type": "markdown",
   "metadata": {
    "id": "64hdmp3OUDW6"
   },
   "source": [
    "Tidak ada data yang redundan"
   ]
  },
  {
   "cell_type": "code",
   "execution_count": 12,
   "metadata": {
    "colab": {
     "base_uri": "https://localhost:8080/"
    },
    "id": "63VlyHrCUIEc",
    "outputId": "10184196-3da4-4176-978c-7fe9690b3452"
   },
   "outputs": [
    {
     "name": "stdout",
     "output_type": "stream",
     "text": [
      "Jumlah data yang merupakan outlier\n"
     ]
    },
    {
     "name": "stderr",
     "output_type": "stream",
     "text": [
      "/var/folders/gh/ys14pl_548q3n_mlxhsk4rt00000gn/T/ipykernel_780/926811866.py:6: FutureWarning: Automatic reindexing on DataFrame vs Series comparisons is deprecated and will raise ValueError in a future version.  Do `left, right = left.align(right, axis=1, copy=False)` before e.g. `left == right`\n",
      "  ((vehicles < (Q1 - 1.5 * IQR)) | (vehicles > (Q3 + 1.5 * IQR))).sum()\n"
     ]
    },
    {
     "data": {
      "text/plain": [
       "VIN                 0\n",
       "condition           0\n",
       "cylinders           0\n",
       "description         0\n",
       "drive               0\n",
       "fuel                0\n",
       "id                 44\n",
       "image_url           0\n",
       "lat              6413\n",
       "long              195\n",
       "manufacturer        0\n",
       "model               0\n",
       "odometer         4385\n",
       "paint_color         0\n",
       "posting_date        0\n",
       "price            8177\n",
       "region              0\n",
       "region_url          0\n",
       "size                0\n",
       "state               0\n",
       "title_status        0\n",
       "transmission        0\n",
       "type                0\n",
       "url                 0\n",
       "year            15896\n",
       "dtype: int64"
      ]
     },
     "execution_count": 12,
     "metadata": {},
     "output_type": "execute_result"
    }
   ],
   "source": [
    "# Menghitung outlier\n",
    "Q1 = vehicles.quantile(0.25)\n",
    "Q3 = vehicles.quantile(0.75)\n",
    "IQR = Q3 - Q1\n",
    "print(\"Jumlah data yang merupakan outlier\")\n",
    "((vehicles < (Q1 - 1.5 * IQR)) | (vehicles > (Q3 + 1.5 * IQR))).sum()\n"
   ]
  },
  {
   "cell_type": "markdown",
   "metadata": {
    "id": "io7qg5P2N05L"
   },
   "source": [
    "Terdapat sangat banyak outlier pada data vehicles"
   ]
  },
  {
   "cell_type": "code",
   "execution_count": 13,
   "metadata": {
    "colab": {
     "base_uri": "https://localhost:8080/",
     "height": 297
    },
    "id": "-UvA5TtVUfiM",
    "outputId": "74d6014a-e5e8-4ed8-ccd4-6df2a7c28cbf"
   },
   "outputs": [
    {
     "data": {
      "text/plain": [
       "<AxesSubplot:>"
      ]
     },
     "execution_count": 13,
     "metadata": {},
     "output_type": "execute_result"
    },
    {
     "data": {
      "image/png": "[encoded data removed]",
      "text/plain": [
       "<Figure size 1440x216 with 1 Axes>"
      ]
     },
     "metadata": {
      "needs_background": "light"
     },
     "output_type": "display_data"
    }
   ],
   "source": [
    "# Boxplot vehicles\n",
    "vehicles.boxplot(figsize=(20,3))"
   ]
  },
  {
   "cell_type": "markdown",
   "metadata": {
    "id": "DehDaW9Lvwqh"
   },
   "source": [
    "##### Jenis Kendaraan Paling Populer"
   ]
  },
  {
   "cell_type": "code",
   "execution_count": 193,
   "metadata": {
    "colab": {
     "base_uri": "https://localhost:8080/",
     "height": 1000
    },
    "id": "X1YpBJ-nv-XO",
    "outputId": "8befb450-adfd-4d73-eb97-b95eef049e6b"
   },
   "outputs": [
    {
     "name": "stdout",
     "output_type": "stream",
     "text": [
      "Top 15 Manufacture dengan jumlah mobil terbanyak dari State\n",
      "\n"
     ]
    },
    {
     "data": {
      "text/html": [
       "<div>\n",
       "<style scoped>\n",
       "    .dataframe tbody tr th:only-of-type {\n",
       "        vertical-align: middle;\n",
       "    }\n",
       "\n",
       "    .dataframe tbody tr th {\n",
       "        vertical-align: top;\n",
       "    }\n",
       "\n",
       "    .dataframe thead th {\n",
       "        text-align: right;\n",
       "    }\n",
       "</style>\n",
       "<table border=\"1\" class=\"dataframe\">\n",
       "  <thead>\n",
       "    <tr style=\"text-align: right;\">\n",
       "      <th></th>\n",
       "      <th>state</th>\n",
       "      <th>manufacturer</th>\n",
       "      <th>Jumlah_Mobil</th>\n",
       "    </tr>\n",
       "  </thead>\n",
       "  <tbody>\n",
       "    <tr>\n",
       "      <th>10</th>\n",
       "      <td>ak</td>\n",
       "      <td>ford</td>\n",
       "      <td>594</td>\n",
       "    </tr>\n",
       "    <tr>\n",
       "      <th>48</th>\n",
       "      <td>al</td>\n",
       "      <td>ford</td>\n",
       "      <td>905</td>\n",
       "    </tr>\n",
       "    <tr>\n",
       "      <th>80</th>\n",
       "      <td>ar</td>\n",
       "      <td>chevrolet</td>\n",
       "      <td>774</td>\n",
       "    </tr>\n",
       "    <tr>\n",
       "      <th>124</th>\n",
       "      <td>az</td>\n",
       "      <td>ford</td>\n",
       "      <td>1348</td>\n",
       "    </tr>\n",
       "    <tr>\n",
       "      <th>164</th>\n",
       "      <td>ca</td>\n",
       "      <td>ford</td>\n",
       "      <td>7189</td>\n",
       "    </tr>\n",
       "    <tr>\n",
       "      <th>203</th>\n",
       "      <td>co</td>\n",
       "      <td>ford</td>\n",
       "      <td>1706</td>\n",
       "    </tr>\n",
       "    <tr>\n",
       "      <th>242</th>\n",
       "      <td>ct</td>\n",
       "      <td>ford</td>\n",
       "      <td>685</td>\n",
       "    </tr>\n",
       "    <tr>\n",
       "      <th>281</th>\n",
       "      <td>dc</td>\n",
       "      <td>ford</td>\n",
       "      <td>328</td>\n",
       "    </tr>\n",
       "    <tr>\n",
       "      <th>319</th>\n",
       "      <td>de</td>\n",
       "      <td>ford</td>\n",
       "      <td>177</td>\n",
       "    </tr>\n",
       "    <tr>\n",
       "      <th>356</th>\n",
       "      <td>fl</td>\n",
       "      <td>ford</td>\n",
       "      <td>5033</td>\n",
       "    </tr>\n",
       "    <tr>\n",
       "      <th>394</th>\n",
       "      <td>ga</td>\n",
       "      <td>ford</td>\n",
       "      <td>1031</td>\n",
       "    </tr>\n",
       "    <tr>\n",
       "      <th>455</th>\n",
       "      <td>hi</td>\n",
       "      <td>toyota</td>\n",
       "      <td>496</td>\n",
       "    </tr>\n",
       "    <tr>\n",
       "      <th>464</th>\n",
       "      <td>ia</td>\n",
       "      <td>chevrolet</td>\n",
       "      <td>1646</td>\n",
       "    </tr>\n",
       "    <tr>\n",
       "      <th>508</th>\n",
       "      <td>id</td>\n",
       "      <td>ford</td>\n",
       "      <td>1616</td>\n",
       "    </tr>\n",
       "    <tr>\n",
       "      <th>546</th>\n",
       "      <td>il</td>\n",
       "      <td>ford</td>\n",
       "      <td>1730</td>\n",
       "    </tr>\n",
       "  </tbody>\n",
       "</table>\n",
       "</div>"
      ],
      "text/plain": [
       "    state manufacturer  Jumlah_Mobil\n",
       "10     ak         ford           594\n",
       "48     al         ford           905\n",
       "80     ar    chevrolet           774\n",
       "124    az         ford          1348\n",
       "164    ca         ford          7189\n",
       "203    co         ford          1706\n",
       "242    ct         ford           685\n",
       "281    dc         ford           328\n",
       "319    de         ford           177\n",
       "356    fl         ford          5033\n",
       "394    ga         ford          1031\n",
       "455    hi       toyota           496\n",
       "464    ia    chevrolet          1646\n",
       "508    id         ford          1616\n",
       "546    il         ford          1730"
      ]
     },
     "execution_count": 193,
     "metadata": {},
     "output_type": "execute_result"
    }
   ],
   "source": [
    "# Manufacture\n",
    "grouped_manu = vehicles.groupby([\"state\", \"manufacturer\"]).size().reset_index(name='Jumlah_Mobil')\n",
    "max_val_manu = grouped_manu.groupby(['state'])['Jumlah_Mobil'].transform(max) == grouped_manu['Jumlah_Mobil']\n",
    "\n",
    "print(\"Top 15 Manufacture dengan jumlah mobil terbanyak dari State\\n\")\n",
    "grouped_manu[max_val_manu].head(15)"
   ]
  },
  {
   "cell_type": "code",
   "execution_count": 195,
   "metadata": {
    "colab": {
     "base_uri": "https://localhost:8080/",
     "height": 1000
    },
    "id": "0eTiy3-iwfuF",
    "outputId": "2f294b6e-f5b5-4a1b-d6b0-3d6983cc1297"
   },
   "outputs": [
    {
     "name": "stdout",
     "output_type": "stream",
     "text": [
      "Top 15 Model dengan jumlah mobil terbanyak dari State\n",
      "\n"
     ]
    },
    {
     "data": {
      "text/html": [
       "<div>\n",
       "<style scoped>\n",
       "    .dataframe tbody tr th:only-of-type {\n",
       "        vertical-align: middle;\n",
       "    }\n",
       "\n",
       "    .dataframe tbody tr th {\n",
       "        vertical-align: top;\n",
       "    }\n",
       "\n",
       "    .dataframe thead th {\n",
       "        text-align: right;\n",
       "    }\n",
       "</style>\n",
       "<table border=\"1\" class=\"dataframe\">\n",
       "  <thead>\n",
       "    <tr style=\"text-align: right;\">\n",
       "      <th></th>\n",
       "      <th>state</th>\n",
       "      <th>model</th>\n",
       "      <th>Jumlah_Mobil</th>\n",
       "    </tr>\n",
       "  </thead>\n",
       "  <tbody>\n",
       "    <tr>\n",
       "      <th>355</th>\n",
       "      <td>ak</td>\n",
       "      <td>f-150</td>\n",
       "      <td>123</td>\n",
       "    </tr>\n",
       "    <tr>\n",
       "      <th>1497</th>\n",
       "      <td>al</td>\n",
       "      <td>f-150</td>\n",
       "      <td>96</td>\n",
       "    </tr>\n",
       "    <tr>\n",
       "      <th>3310</th>\n",
       "      <td>ar</td>\n",
       "      <td>silverado 1500</td>\n",
       "      <td>110</td>\n",
       "    </tr>\n",
       "    <tr>\n",
       "      <th>4781</th>\n",
       "      <td>az</td>\n",
       "      <td>f-150</td>\n",
       "      <td>129</td>\n",
       "    </tr>\n",
       "    <tr>\n",
       "      <th>10169</th>\n",
       "      <td>ca</td>\n",
       "      <td>f-150</td>\n",
       "      <td>583</td>\n",
       "    </tr>\n",
       "    <tr>\n",
       "      <th>16086</th>\n",
       "      <td>co</td>\n",
       "      <td>f-150</td>\n",
       "      <td>221</td>\n",
       "    </tr>\n",
       "    <tr>\n",
       "      <th>18787</th>\n",
       "      <td>ct</td>\n",
       "      <td>forester</td>\n",
       "      <td>86</td>\n",
       "    </tr>\n",
       "    <tr>\n",
       "      <th>19985</th>\n",
       "      <td>dc</td>\n",
       "      <td>camry</td>\n",
       "      <td>47</td>\n",
       "    </tr>\n",
       "    <tr>\n",
       "      <th>21534</th>\n",
       "      <td>de</td>\n",
       "      <td>super duty f-550 drw</td>\n",
       "      <td>15</td>\n",
       "    </tr>\n",
       "    <tr>\n",
       "      <th>23891</th>\n",
       "      <td>fl</td>\n",
       "      <td>f-150</td>\n",
       "      <td>611</td>\n",
       "    </tr>\n",
       "    <tr>\n",
       "      <th>27518</th>\n",
       "      <td>ga</td>\n",
       "      <td>f-150</td>\n",
       "      <td>87</td>\n",
       "    </tr>\n",
       "    <tr>\n",
       "      <th>29762</th>\n",
       "      <td>hi</td>\n",
       "      <td>tacoma</td>\n",
       "      <td>73</td>\n",
       "    </tr>\n",
       "    <tr>\n",
       "      <th>30814</th>\n",
       "      <td>ia</td>\n",
       "      <td>f-150</td>\n",
       "      <td>263</td>\n",
       "    </tr>\n",
       "    <tr>\n",
       "      <th>32936</th>\n",
       "      <td>id</td>\n",
       "      <td>f-150</td>\n",
       "      <td>233</td>\n",
       "    </tr>\n",
       "    <tr>\n",
       "      <th>36937</th>\n",
       "      <td>il</td>\n",
       "      <td>silverado 1500</td>\n",
       "      <td>135</td>\n",
       "    </tr>\n",
       "  </tbody>\n",
       "</table>\n",
       "</div>"
      ],
      "text/plain": [
       "      state                 model  Jumlah_Mobil\n",
       "355      ak                 f-150           123\n",
       "1497     al                 f-150            96\n",
       "3310     ar        silverado 1500           110\n",
       "4781     az                 f-150           129\n",
       "10169    ca                 f-150           583\n",
       "16086    co                 f-150           221\n",
       "18787    ct              forester            86\n",
       "19985    dc                 camry            47\n",
       "21534    de  super duty f-550 drw            15\n",
       "23891    fl                 f-150           611\n",
       "27518    ga                 f-150            87\n",
       "29762    hi                tacoma            73\n",
       "30814    ia                 f-150           263\n",
       "32936    id                 f-150           233\n",
       "36937    il        silverado 1500           135"
      ]
     },
     "execution_count": 195,
     "metadata": {},
     "output_type": "execute_result"
    }
   ],
   "source": [
    "# Model\n",
    "grouped_model = vehicles.groupby([\"state\", \"model\"]).size().reset_index(name='Jumlah_Mobil')\n",
    "max_val_model = grouped_model.groupby(['state'])['Jumlah_Mobil'].transform(max) == grouped_model['Jumlah_Mobil']\n",
    "\n",
    "print(\"Top 15 Model dengan jumlah mobil terbanyak dari State\\n\")\n",
    "grouped_model[max_val_model].head(15)"
   ]
  },
  {
   "cell_type": "code",
   "execution_count": 196,
   "metadata": {
    "colab": {
     "base_uri": "https://localhost:8080/",
     "height": 1000
    },
    "id": "jXMSOxsUwwYk",
    "outputId": "d1bd8fc5-28a9-431e-a61d-be9696ab8f5a"
   },
   "outputs": [
    {
     "name": "stdout",
     "output_type": "stream",
     "text": [
      "Top 15 Fuel dengan jumlah mobil terbanyak dari State\n",
      "\n"
     ]
    },
    {
     "data": {
      "text/html": [
       "<div>\n",
       "<style scoped>\n",
       "    .dataframe tbody tr th:only-of-type {\n",
       "        vertical-align: middle;\n",
       "    }\n",
       "\n",
       "    .dataframe tbody tr th {\n",
       "        vertical-align: top;\n",
       "    }\n",
       "\n",
       "    .dataframe thead th {\n",
       "        text-align: right;\n",
       "    }\n",
       "</style>\n",
       "<table border=\"1\" class=\"dataframe\">\n",
       "  <thead>\n",
       "    <tr style=\"text-align: right;\">\n",
       "      <th></th>\n",
       "      <th>state</th>\n",
       "      <th>fuel</th>\n",
       "      <th>counts</th>\n",
       "    </tr>\n",
       "  </thead>\n",
       "  <tbody>\n",
       "    <tr>\n",
       "      <th>2</th>\n",
       "      <td>ak</td>\n",
       "      <td>gas</td>\n",
       "      <td>3009</td>\n",
       "    </tr>\n",
       "    <tr>\n",
       "      <th>7</th>\n",
       "      <td>al</td>\n",
       "      <td>gas</td>\n",
       "      <td>4090</td>\n",
       "    </tr>\n",
       "    <tr>\n",
       "      <th>12</th>\n",
       "      <td>ar</td>\n",
       "      <td>gas</td>\n",
       "      <td>3111</td>\n",
       "    </tr>\n",
       "    <tr>\n",
       "      <th>17</th>\n",
       "      <td>az</td>\n",
       "      <td>gas</td>\n",
       "      <td>6799</td>\n",
       "    </tr>\n",
       "    <tr>\n",
       "      <th>22</th>\n",
       "      <td>ca</td>\n",
       "      <td>gas</td>\n",
       "      <td>42438</td>\n",
       "    </tr>\n",
       "    <tr>\n",
       "      <th>27</th>\n",
       "      <td>co</td>\n",
       "      <td>gas</td>\n",
       "      <td>8954</td>\n",
       "    </tr>\n",
       "    <tr>\n",
       "      <th>32</th>\n",
       "      <td>ct</td>\n",
       "      <td>gas</td>\n",
       "      <td>4430</td>\n",
       "    </tr>\n",
       "    <tr>\n",
       "      <th>37</th>\n",
       "      <td>dc</td>\n",
       "      <td>gas</td>\n",
       "      <td>2525</td>\n",
       "    </tr>\n",
       "    <tr>\n",
       "      <th>42</th>\n",
       "      <td>de</td>\n",
       "      <td>gas</td>\n",
       "      <td>762</td>\n",
       "    </tr>\n",
       "    <tr>\n",
       "      <th>47</th>\n",
       "      <td>fl</td>\n",
       "      <td>gas</td>\n",
       "      <td>24218</td>\n",
       "    </tr>\n",
       "    <tr>\n",
       "      <th>52</th>\n",
       "      <td>ga</td>\n",
       "      <td>gas</td>\n",
       "      <td>5761</td>\n",
       "    </tr>\n",
       "    <tr>\n",
       "      <th>57</th>\n",
       "      <td>hi</td>\n",
       "      <td>gas</td>\n",
       "      <td>2688</td>\n",
       "    </tr>\n",
       "    <tr>\n",
       "      <th>62</th>\n",
       "      <td>ia</td>\n",
       "      <td>gas</td>\n",
       "      <td>7383</td>\n",
       "    </tr>\n",
       "    <tr>\n",
       "      <th>67</th>\n",
       "      <td>id</td>\n",
       "      <td>gas</td>\n",
       "      <td>7680</td>\n",
       "    </tr>\n",
       "    <tr>\n",
       "      <th>72</th>\n",
       "      <td>il</td>\n",
       "      <td>gas</td>\n",
       "      <td>8916</td>\n",
       "    </tr>\n",
       "  </tbody>\n",
       "</table>\n",
       "</div>"
      ],
      "text/plain": [
       "   state fuel  counts\n",
       "2     ak  gas    3009\n",
       "7     al  gas    4090\n",
       "12    ar  gas    3111\n",
       "17    az  gas    6799\n",
       "22    ca  gas   42438\n",
       "27    co  gas    8954\n",
       "32    ct  gas    4430\n",
       "37    dc  gas    2525\n",
       "42    de  gas     762\n",
       "47    fl  gas   24218\n",
       "52    ga  gas    5761\n",
       "57    hi  gas    2688\n",
       "62    ia  gas    7383\n",
       "67    id  gas    7680\n",
       "72    il  gas    8916"
      ]
     },
     "execution_count": 196,
     "metadata": {},
     "output_type": "execute_result"
    }
   ],
   "source": [
    "# Fuel\n",
    "grouped_fuel = vehicles.groupby([\"state\", \"fuel\"]).size().reset_index(name='counts')\n",
    "max_val_fuel = grouped_fuel.groupby(['state'])['counts'].transform(max) == grouped_fuel['counts']\n",
    "\n",
    "print(\"Top 15 Fuel dengan jumlah mobil terbanyak dari State\\n\")\n",
    "grouped_fuel[max_val_fuel].head(15)"
   ]
  },
  {
   "cell_type": "code",
   "execution_count": 197,
   "metadata": {
    "colab": {
     "base_uri": "https://localhost:8080/",
     "height": 1000
    },
    "id": "IThRVhtew8d9",
    "outputId": "87df58f3-fa4a-47a6-bbf7-9698562c4914"
   },
   "outputs": [
    {
     "name": "stdout",
     "output_type": "stream",
     "text": [
      "Top 15 Transmission dengan jumlah mobil terbanyak dari State\n",
      "\n"
     ]
    },
    {
     "data": {
      "text/html": [
       "<div>\n",
       "<style scoped>\n",
       "    .dataframe tbody tr th:only-of-type {\n",
       "        vertical-align: middle;\n",
       "    }\n",
       "\n",
       "    .dataframe tbody tr th {\n",
       "        vertical-align: top;\n",
       "    }\n",
       "\n",
       "    .dataframe thead th {\n",
       "        text-align: right;\n",
       "    }\n",
       "</style>\n",
       "<table border=\"1\" class=\"dataframe\">\n",
       "  <thead>\n",
       "    <tr style=\"text-align: right;\">\n",
       "      <th></th>\n",
       "      <th>state</th>\n",
       "      <th>transmission</th>\n",
       "      <th>counts</th>\n",
       "    </tr>\n",
       "  </thead>\n",
       "  <tbody>\n",
       "    <tr>\n",
       "      <th>0</th>\n",
       "      <td>ak</td>\n",
       "      <td>automatic</td>\n",
       "      <td>2901</td>\n",
       "    </tr>\n",
       "    <tr>\n",
       "      <th>3</th>\n",
       "      <td>al</td>\n",
       "      <td>automatic</td>\n",
       "      <td>3475</td>\n",
       "    </tr>\n",
       "    <tr>\n",
       "      <th>6</th>\n",
       "      <td>ar</td>\n",
       "      <td>automatic</td>\n",
       "      <td>3418</td>\n",
       "    </tr>\n",
       "    <tr>\n",
       "      <th>9</th>\n",
       "      <td>az</td>\n",
       "      <td>automatic</td>\n",
       "      <td>6422</td>\n",
       "    </tr>\n",
       "    <tr>\n",
       "      <th>12</th>\n",
       "      <td>ca</td>\n",
       "      <td>automatic</td>\n",
       "      <td>40212</td>\n",
       "    </tr>\n",
       "    <tr>\n",
       "      <th>15</th>\n",
       "      <td>co</td>\n",
       "      <td>automatic</td>\n",
       "      <td>8675</td>\n",
       "    </tr>\n",
       "    <tr>\n",
       "      <th>18</th>\n",
       "      <td>ct</td>\n",
       "      <td>automatic</td>\n",
       "      <td>3824</td>\n",
       "    </tr>\n",
       "    <tr>\n",
       "      <th>21</th>\n",
       "      <td>dc</td>\n",
       "      <td>automatic</td>\n",
       "      <td>2225</td>\n",
       "    </tr>\n",
       "    <tr>\n",
       "      <th>24</th>\n",
       "      <td>de</td>\n",
       "      <td>automatic</td>\n",
       "      <td>767</td>\n",
       "    </tr>\n",
       "    <tr>\n",
       "      <th>27</th>\n",
       "      <td>fl</td>\n",
       "      <td>automatic</td>\n",
       "      <td>22434</td>\n",
       "    </tr>\n",
       "    <tr>\n",
       "      <th>30</th>\n",
       "      <td>ga</td>\n",
       "      <td>automatic</td>\n",
       "      <td>4636</td>\n",
       "    </tr>\n",
       "    <tr>\n",
       "      <th>33</th>\n",
       "      <td>hi</td>\n",
       "      <td>automatic</td>\n",
       "      <td>2648</td>\n",
       "    </tr>\n",
       "    <tr>\n",
       "      <th>36</th>\n",
       "      <td>ia</td>\n",
       "      <td>automatic</td>\n",
       "      <td>7945</td>\n",
       "    </tr>\n",
       "    <tr>\n",
       "      <th>39</th>\n",
       "      <td>id</td>\n",
       "      <td>automatic</td>\n",
       "      <td>8000</td>\n",
       "    </tr>\n",
       "    <tr>\n",
       "      <th>42</th>\n",
       "      <td>il</td>\n",
       "      <td>automatic</td>\n",
       "      <td>7960</td>\n",
       "    </tr>\n",
       "  </tbody>\n",
       "</table>\n",
       "</div>"
      ],
      "text/plain": [
       "   state transmission  counts\n",
       "0     ak    automatic    2901\n",
       "3     al    automatic    3475\n",
       "6     ar    automatic    3418\n",
       "9     az    automatic    6422\n",
       "12    ca    automatic   40212\n",
       "15    co    automatic    8675\n",
       "18    ct    automatic    3824\n",
       "21    dc    automatic    2225\n",
       "24    de    automatic     767\n",
       "27    fl    automatic   22434\n",
       "30    ga    automatic    4636\n",
       "33    hi    automatic    2648\n",
       "36    ia    automatic    7945\n",
       "39    id    automatic    8000\n",
       "42    il    automatic    7960"
      ]
     },
     "execution_count": 197,
     "metadata": {},
     "output_type": "execute_result"
    }
   ],
   "source": [
    "# Transmission\n",
    "grouped_trans = vehicles.groupby([\"state\", \"transmission\"]).size().reset_index(name='counts')\n",
    "max_val_trans = grouped_trans.groupby(['state'])['counts'].transform(max) == grouped_trans['counts']\n",
    "\n",
    "print(\"Top 15 Transmission dengan jumlah mobil terbanyak dari State\\n\")\n",
    "grouped_trans[max_val_trans].head(15)"
   ]
  },
  {
   "cell_type": "code",
   "execution_count": 198,
   "metadata": {
    "colab": {
     "base_uri": "https://localhost:8080/",
     "height": 1000
    },
    "id": "R22bY-cxj4QP",
    "outputId": "6806194f-8b99-4abc-ee7f-421191803194"
   },
   "outputs": [
    {
     "name": "stdout",
     "output_type": "stream",
     "text": [
      "Top 15 Drive dengan jumlah mobil terbanyak dari State\n",
      "\n"
     ]
    },
    {
     "data": {
      "text/html": [
       "<div>\n",
       "<style scoped>\n",
       "    .dataframe tbody tr th:only-of-type {\n",
       "        vertical-align: middle;\n",
       "    }\n",
       "\n",
       "    .dataframe tbody tr th {\n",
       "        vertical-align: top;\n",
       "    }\n",
       "\n",
       "    .dataframe thead th {\n",
       "        text-align: right;\n",
       "    }\n",
       "</style>\n",
       "<table border=\"1\" class=\"dataframe\">\n",
       "  <thead>\n",
       "    <tr style=\"text-align: right;\">\n",
       "      <th></th>\n",
       "      <th>state</th>\n",
       "      <th>drive</th>\n",
       "      <th>counts</th>\n",
       "    </tr>\n",
       "  </thead>\n",
       "  <tbody>\n",
       "    <tr>\n",
       "      <th>0</th>\n",
       "      <td>ak</td>\n",
       "      <td>4wd</td>\n",
       "      <td>1969</td>\n",
       "    </tr>\n",
       "    <tr>\n",
       "      <th>4</th>\n",
       "      <td>al</td>\n",
       "      <td>fwd</td>\n",
       "      <td>1237</td>\n",
       "    </tr>\n",
       "    <tr>\n",
       "      <th>6</th>\n",
       "      <td>ar</td>\n",
       "      <td>4wd</td>\n",
       "      <td>1158</td>\n",
       "    </tr>\n",
       "    <tr>\n",
       "      <th>10</th>\n",
       "      <td>az</td>\n",
       "      <td>fwd</td>\n",
       "      <td>2394</td>\n",
       "    </tr>\n",
       "    <tr>\n",
       "      <th>13</th>\n",
       "      <td>ca</td>\n",
       "      <td>fwd</td>\n",
       "      <td>14649</td>\n",
       "    </tr>\n",
       "    <tr>\n",
       "      <th>15</th>\n",
       "      <td>co</td>\n",
       "      <td>4wd</td>\n",
       "      <td>5161</td>\n",
       "    </tr>\n",
       "    <tr>\n",
       "      <th>18</th>\n",
       "      <td>ct</td>\n",
       "      <td>4wd</td>\n",
       "      <td>1587</td>\n",
       "    </tr>\n",
       "    <tr>\n",
       "      <th>22</th>\n",
       "      <td>dc</td>\n",
       "      <td>fwd</td>\n",
       "      <td>941</td>\n",
       "    </tr>\n",
       "    <tr>\n",
       "      <th>24</th>\n",
       "      <td>de</td>\n",
       "      <td>4wd</td>\n",
       "      <td>245</td>\n",
       "    </tr>\n",
       "    <tr>\n",
       "      <th>28</th>\n",
       "      <td>fl</td>\n",
       "      <td>fwd</td>\n",
       "      <td>8064</td>\n",
       "    </tr>\n",
       "    <tr>\n",
       "      <th>31</th>\n",
       "      <td>ga</td>\n",
       "      <td>fwd</td>\n",
       "      <td>1736</td>\n",
       "    </tr>\n",
       "    <tr>\n",
       "      <th>34</th>\n",
       "      <td>hi</td>\n",
       "      <td>fwd</td>\n",
       "      <td>1061</td>\n",
       "    </tr>\n",
       "    <tr>\n",
       "      <th>36</th>\n",
       "      <td>ia</td>\n",
       "      <td>4wd</td>\n",
       "      <td>2863</td>\n",
       "    </tr>\n",
       "    <tr>\n",
       "      <th>39</th>\n",
       "      <td>id</td>\n",
       "      <td>4wd</td>\n",
       "      <td>4869</td>\n",
       "    </tr>\n",
       "    <tr>\n",
       "      <th>42</th>\n",
       "      <td>il</td>\n",
       "      <td>4wd</td>\n",
       "      <td>2767</td>\n",
       "    </tr>\n",
       "  </tbody>\n",
       "</table>\n",
       "</div>"
      ],
      "text/plain": [
       "   state drive  counts\n",
       "0     ak   4wd    1969\n",
       "4     al   fwd    1237\n",
       "6     ar   4wd    1158\n",
       "10    az   fwd    2394\n",
       "13    ca   fwd   14649\n",
       "15    co   4wd    5161\n",
       "18    ct   4wd    1587\n",
       "22    dc   fwd     941\n",
       "24    de   4wd     245\n",
       "28    fl   fwd    8064\n",
       "31    ga   fwd    1736\n",
       "34    hi   fwd    1061\n",
       "36    ia   4wd    2863\n",
       "39    id   4wd    4869\n",
       "42    il   4wd    2767"
      ]
     },
     "execution_count": 198,
     "metadata": {},
     "output_type": "execute_result"
    }
   ],
   "source": [
    "# Drive \n",
    "grouped_vehicles = vehicles.groupby([\"state\", \"drive\"]).size().reset_index(name='counts')\n",
    "max_val = grouped_vehicles.groupby(['state'])['counts'].transform(max) == grouped_vehicles['counts']\n",
    "\n",
    "print(\"Top 15 Drive dengan jumlah mobil terbanyak dari State\\n\")\n",
    "grouped_vehicles[max_val].head(15)"
   ]
  },
  {
   "cell_type": "code",
   "execution_count": 202,
   "metadata": {
    "colab": {
     "base_uri": "https://localhost:8080/",
     "height": 1000
    },
    "id": "ji9nnWf0xU-Y",
    "outputId": "2180c84d-d593-4fc8-ed72-6efcfd3de160"
   },
   "outputs": [
    {
     "name": "stdout",
     "output_type": "stream",
     "text": [
      "Top 15 Size dengan jumlah mobil terbanyak dari State\n",
      "\n"
     ]
    },
    {
     "data": {
      "text/html": [
       "<div>\n",
       "<style scoped>\n",
       "    .dataframe tbody tr th:only-of-type {\n",
       "        vertical-align: middle;\n",
       "    }\n",
       "\n",
       "    .dataframe tbody tr th {\n",
       "        vertical-align: top;\n",
       "    }\n",
       "\n",
       "    .dataframe thead th {\n",
       "        text-align: right;\n",
       "    }\n",
       "</style>\n",
       "<table border=\"1\" class=\"dataframe\">\n",
       "  <thead>\n",
       "    <tr style=\"text-align: right;\">\n",
       "      <th></th>\n",
       "      <th>state</th>\n",
       "      <th>size</th>\n",
       "      <th>counts</th>\n",
       "    </tr>\n",
       "  </thead>\n",
       "  <tbody>\n",
       "    <tr>\n",
       "      <th>1</th>\n",
       "      <td>ak</td>\n",
       "      <td>full-size</td>\n",
       "      <td>464</td>\n",
       "    </tr>\n",
       "    <tr>\n",
       "      <th>5</th>\n",
       "      <td>al</td>\n",
       "      <td>full-size</td>\n",
       "      <td>785</td>\n",
       "    </tr>\n",
       "    <tr>\n",
       "      <th>9</th>\n",
       "      <td>ar</td>\n",
       "      <td>full-size</td>\n",
       "      <td>487</td>\n",
       "    </tr>\n",
       "    <tr>\n",
       "      <th>13</th>\n",
       "      <td>az</td>\n",
       "      <td>full-size</td>\n",
       "      <td>1246</td>\n",
       "    </tr>\n",
       "    <tr>\n",
       "      <th>17</th>\n",
       "      <td>ca</td>\n",
       "      <td>full-size</td>\n",
       "      <td>7250</td>\n",
       "    </tr>\n",
       "    <tr>\n",
       "      <th>21</th>\n",
       "      <td>co</td>\n",
       "      <td>full-size</td>\n",
       "      <td>1377</td>\n",
       "    </tr>\n",
       "    <tr>\n",
       "      <th>25</th>\n",
       "      <td>ct</td>\n",
       "      <td>full-size</td>\n",
       "      <td>758</td>\n",
       "    </tr>\n",
       "    <tr>\n",
       "      <th>29</th>\n",
       "      <td>dc</td>\n",
       "      <td>full-size</td>\n",
       "      <td>389</td>\n",
       "    </tr>\n",
       "    <tr>\n",
       "      <th>33</th>\n",
       "      <td>de</td>\n",
       "      <td>full-size</td>\n",
       "      <td>185</td>\n",
       "    </tr>\n",
       "    <tr>\n",
       "      <th>37</th>\n",
       "      <td>fl</td>\n",
       "      <td>full-size</td>\n",
       "      <td>5006</td>\n",
       "    </tr>\n",
       "    <tr>\n",
       "      <th>41</th>\n",
       "      <td>ga</td>\n",
       "      <td>full-size</td>\n",
       "      <td>1022</td>\n",
       "    </tr>\n",
       "    <tr>\n",
       "      <th>45</th>\n",
       "      <td>hi</td>\n",
       "      <td>full-size</td>\n",
       "      <td>425</td>\n",
       "    </tr>\n",
       "    <tr>\n",
       "      <th>49</th>\n",
       "      <td>ia</td>\n",
       "      <td>full-size</td>\n",
       "      <td>1285</td>\n",
       "    </tr>\n",
       "    <tr>\n",
       "      <th>53</th>\n",
       "      <td>id</td>\n",
       "      <td>full-size</td>\n",
       "      <td>1228</td>\n",
       "    </tr>\n",
       "    <tr>\n",
       "      <th>57</th>\n",
       "      <td>il</td>\n",
       "      <td>full-size</td>\n",
       "      <td>1255</td>\n",
       "    </tr>\n",
       "  </tbody>\n",
       "</table>\n",
       "</div>"
      ],
      "text/plain": [
       "   state       size  counts\n",
       "1     ak  full-size     464\n",
       "5     al  full-size     785\n",
       "9     ar  full-size     487\n",
       "13    az  full-size    1246\n",
       "17    ca  full-size    7250\n",
       "21    co  full-size    1377\n",
       "25    ct  full-size     758\n",
       "29    dc  full-size     389\n",
       "33    de  full-size     185\n",
       "37    fl  full-size    5006\n",
       "41    ga  full-size    1022\n",
       "45    hi  full-size     425\n",
       "49    ia  full-size    1285\n",
       "53    id  full-size    1228\n",
       "57    il  full-size    1255"
      ]
     },
     "execution_count": 202,
     "metadata": {},
     "output_type": "execute_result"
    }
   ],
   "source": [
    "# Size\n",
    "grouped_size = vehicles.groupby([\"state\", \"size\"]).size().reset_index(name='counts')\n",
    "max_val_size = grouped_size.groupby(['state'])['counts'].transform(max) == grouped_size['counts']\n",
    "\n",
    "print(\"Top 15 Size dengan jumlah mobil terbanyak dari State\\n\")\n",
    "grouped_size[max_val_size].head(15)"
   ]
  },
  {
   "cell_type": "code",
   "execution_count": 201,
   "metadata": {
    "colab": {
     "base_uri": "https://localhost:8080/",
     "height": 1000
    },
    "id": "QsvIdFT9xfcU",
    "outputId": "91c28357-5052-48ae-b569-fd1792c5e4f4"
   },
   "outputs": [
    {
     "name": "stdout",
     "output_type": "stream",
     "text": [
      "Top 15 Type dengan jumlah mobil terbanyak dari State\n",
      "\n"
     ]
    },
    {
     "data": {
      "text/html": [
       "<div>\n",
       "<style scoped>\n",
       "    .dataframe tbody tr th:only-of-type {\n",
       "        vertical-align: middle;\n",
       "    }\n",
       "\n",
       "    .dataframe tbody tr th {\n",
       "        vertical-align: top;\n",
       "    }\n",
       "\n",
       "    .dataframe thead th {\n",
       "        text-align: right;\n",
       "    }\n",
       "</style>\n",
       "<table border=\"1\" class=\"dataframe\">\n",
       "  <thead>\n",
       "    <tr style=\"text-align: right;\">\n",
       "      <th></th>\n",
       "      <th>state</th>\n",
       "      <th>type</th>\n",
       "      <th>counts</th>\n",
       "    </tr>\n",
       "  </thead>\n",
       "  <tbody>\n",
       "    <tr>\n",
       "      <th>0</th>\n",
       "      <td>ak</td>\n",
       "      <td>SUV</td>\n",
       "      <td>958</td>\n",
       "    </tr>\n",
       "    <tr>\n",
       "      <th>22</th>\n",
       "      <td>al</td>\n",
       "      <td>sedan</td>\n",
       "      <td>959</td>\n",
       "    </tr>\n",
       "    <tr>\n",
       "      <th>34</th>\n",
       "      <td>ar</td>\n",
       "      <td>pickup</td>\n",
       "      <td>543</td>\n",
       "    </tr>\n",
       "    <tr>\n",
       "      <th>48</th>\n",
       "      <td>az</td>\n",
       "      <td>sedan</td>\n",
       "      <td>1709</td>\n",
       "    </tr>\n",
       "    <tr>\n",
       "      <th>61</th>\n",
       "      <td>ca</td>\n",
       "      <td>sedan</td>\n",
       "      <td>12642</td>\n",
       "    </tr>\n",
       "    <tr>\n",
       "      <th>65</th>\n",
       "      <td>co</td>\n",
       "      <td>SUV</td>\n",
       "      <td>2486</td>\n",
       "    </tr>\n",
       "    <tr>\n",
       "      <th>87</th>\n",
       "      <td>ct</td>\n",
       "      <td>sedan</td>\n",
       "      <td>1085</td>\n",
       "    </tr>\n",
       "    <tr>\n",
       "      <th>100</th>\n",
       "      <td>dc</td>\n",
       "      <td>sedan</td>\n",
       "      <td>908</td>\n",
       "    </tr>\n",
       "    <tr>\n",
       "      <th>113</th>\n",
       "      <td>de</td>\n",
       "      <td>sedan</td>\n",
       "      <td>213</td>\n",
       "    </tr>\n",
       "    <tr>\n",
       "      <th>126</th>\n",
       "      <td>fl</td>\n",
       "      <td>sedan</td>\n",
       "      <td>6768</td>\n",
       "    </tr>\n",
       "    <tr>\n",
       "      <th>139</th>\n",
       "      <td>ga</td>\n",
       "      <td>sedan</td>\n",
       "      <td>1567</td>\n",
       "    </tr>\n",
       "    <tr>\n",
       "      <th>152</th>\n",
       "      <td>hi</td>\n",
       "      <td>sedan</td>\n",
       "      <td>760</td>\n",
       "    </tr>\n",
       "    <tr>\n",
       "      <th>156</th>\n",
       "      <td>ia</td>\n",
       "      <td>SUV</td>\n",
       "      <td>1758</td>\n",
       "    </tr>\n",
       "    <tr>\n",
       "      <th>169</th>\n",
       "      <td>id</td>\n",
       "      <td>SUV</td>\n",
       "      <td>2005</td>\n",
       "    </tr>\n",
       "    <tr>\n",
       "      <th>191</th>\n",
       "      <td>il</td>\n",
       "      <td>sedan</td>\n",
       "      <td>1952</td>\n",
       "    </tr>\n",
       "  </tbody>\n",
       "</table>\n",
       "</div>"
      ],
      "text/plain": [
       "    state    type  counts\n",
       "0      ak     SUV     958\n",
       "22     al   sedan     959\n",
       "34     ar  pickup     543\n",
       "48     az   sedan    1709\n",
       "61     ca   sedan   12642\n",
       "65     co     SUV    2486\n",
       "87     ct   sedan    1085\n",
       "100    dc   sedan     908\n",
       "113    de   sedan     213\n",
       "126    fl   sedan    6768\n",
       "139    ga   sedan    1567\n",
       "152    hi   sedan     760\n",
       "156    ia     SUV    1758\n",
       "169    id     SUV    2005\n",
       "191    il   sedan    1952"
      ]
     },
     "execution_count": 201,
     "metadata": {},
     "output_type": "execute_result"
    }
   ],
   "source": [
    "# Type\n",
    "grouped_type = vehicles.groupby([\"state\", \"type\"]).size().reset_index(name='counts')\n",
    "max_val_type = grouped_type.groupby(['state'])['counts'].transform(max) == grouped_type['counts']\n",
    "\n",
    "print(\"Top 15 Type dengan jumlah mobil terbanyak dari State\\n\")\n",
    "grouped_type[max_val_type].head(15)"
   ]
  },
  {
   "cell_type": "code",
   "execution_count": 203,
   "metadata": {
    "colab": {
     "base_uri": "https://localhost:8080/",
     "height": 1000
    },
    "id": "FJCVsDpHxprQ",
    "outputId": "9676c91a-16f1-4642-dbea-660595142f1a"
   },
   "outputs": [
    {
     "name": "stdout",
     "output_type": "stream",
     "text": [
      "Top 15 Paint Color dengan jumlah mobil terbanyak dari State\n",
      "\n"
     ]
    },
    {
     "data": {
      "text/html": [
       "<div>\n",
       "<style scoped>\n",
       "    .dataframe tbody tr th:only-of-type {\n",
       "        vertical-align: middle;\n",
       "    }\n",
       "\n",
       "    .dataframe tbody tr th {\n",
       "        vertical-align: top;\n",
       "    }\n",
       "\n",
       "    .dataframe thead th {\n",
       "        text-align: right;\n",
       "    }\n",
       "</style>\n",
       "<table border=\"1\" class=\"dataframe\">\n",
       "  <thead>\n",
       "    <tr style=\"text-align: right;\">\n",
       "      <th></th>\n",
       "      <th>state</th>\n",
       "      <th>paint_color</th>\n",
       "      <th>counts</th>\n",
       "    </tr>\n",
       "  </thead>\n",
       "  <tbody>\n",
       "    <tr>\n",
       "      <th>10</th>\n",
       "      <td>ak</td>\n",
       "      <td>white</td>\n",
       "      <td>686</td>\n",
       "    </tr>\n",
       "    <tr>\n",
       "      <th>22</th>\n",
       "      <td>al</td>\n",
       "      <td>white</td>\n",
       "      <td>1263</td>\n",
       "    </tr>\n",
       "    <tr>\n",
       "      <th>34</th>\n",
       "      <td>ar</td>\n",
       "      <td>white</td>\n",
       "      <td>796</td>\n",
       "    </tr>\n",
       "    <tr>\n",
       "      <th>46</th>\n",
       "      <td>az</td>\n",
       "      <td>white</td>\n",
       "      <td>1920</td>\n",
       "    </tr>\n",
       "    <tr>\n",
       "      <th>58</th>\n",
       "      <td>ca</td>\n",
       "      <td>white</td>\n",
       "      <td>10730</td>\n",
       "    </tr>\n",
       "    <tr>\n",
       "      <th>70</th>\n",
       "      <td>co</td>\n",
       "      <td>white</td>\n",
       "      <td>2114</td>\n",
       "    </tr>\n",
       "    <tr>\n",
       "      <th>72</th>\n",
       "      <td>ct</td>\n",
       "      <td>black</td>\n",
       "      <td>861</td>\n",
       "    </tr>\n",
       "    <tr>\n",
       "      <th>84</th>\n",
       "      <td>dc</td>\n",
       "      <td>black</td>\n",
       "      <td>620</td>\n",
       "    </tr>\n",
       "    <tr>\n",
       "      <th>106</th>\n",
       "      <td>de</td>\n",
       "      <td>white</td>\n",
       "      <td>199</td>\n",
       "    </tr>\n",
       "    <tr>\n",
       "      <th>118</th>\n",
       "      <td>fl</td>\n",
       "      <td>white</td>\n",
       "      <td>5677</td>\n",
       "    </tr>\n",
       "    <tr>\n",
       "      <th>130</th>\n",
       "      <td>ga</td>\n",
       "      <td>white</td>\n",
       "      <td>1450</td>\n",
       "    </tr>\n",
       "    <tr>\n",
       "      <th>142</th>\n",
       "      <td>hi</td>\n",
       "      <td>white</td>\n",
       "      <td>545</td>\n",
       "    </tr>\n",
       "    <tr>\n",
       "      <th>154</th>\n",
       "      <td>ia</td>\n",
       "      <td>white</td>\n",
       "      <td>1408</td>\n",
       "    </tr>\n",
       "    <tr>\n",
       "      <th>166</th>\n",
       "      <td>id</td>\n",
       "      <td>white</td>\n",
       "      <td>1762</td>\n",
       "    </tr>\n",
       "    <tr>\n",
       "      <th>178</th>\n",
       "      <td>il</td>\n",
       "      <td>white</td>\n",
       "      <td>1625</td>\n",
       "    </tr>\n",
       "  </tbody>\n",
       "</table>\n",
       "</div>"
      ],
      "text/plain": [
       "    state paint_color  counts\n",
       "10     ak       white     686\n",
       "22     al       white    1263\n",
       "34     ar       white     796\n",
       "46     az       white    1920\n",
       "58     ca       white   10730\n",
       "70     co       white    2114\n",
       "72     ct       black     861\n",
       "84     dc       black     620\n",
       "106    de       white     199\n",
       "118    fl       white    5677\n",
       "130    ga       white    1450\n",
       "142    hi       white     545\n",
       "154    ia       white    1408\n",
       "166    id       white    1762\n",
       "178    il       white    1625"
      ]
     },
     "execution_count": 203,
     "metadata": {},
     "output_type": "execute_result"
    }
   ],
   "source": [
    "# Paint Color\n",
    "grouped_paint = vehicles.groupby([\"state\", \"paint_color\"]).size().reset_index(name='counts')\n",
    "max_val_paint = grouped_paint.groupby(['state'])['counts'].transform(max) == grouped_paint['counts']\n",
    "\n",
    "print(\"Top 15 Paint Color dengan jumlah mobil terbanyak dari State\\n\")\n",
    "grouped_paint[max_val_paint].head(15)"
   ]
  },
  {
   "cell_type": "markdown",
   "metadata": {
    "id": "RKLEkE1oyRte",
    "tags": []
   },
   "source": [
    "#### State yang paling sering menggunakan mobil"
   ]
  },
  {
   "cell_type": "markdown",
   "metadata": {
    "id": "4sK9j9FIyVnp",
    "tags": []
   },
   "source": [
    "#### State yang paling banyak posting iklan"
   ]
  },
  {
   "cell_type": "code",
   "execution_count": 24,
   "metadata": {
    "colab": {
     "base_uri": "https://localhost:8080/",
     "height": 356
    },
    "id": "wSynR_iPBMEw",
    "outputId": "5581b7e7-70b3-4f61-9ea7-486dbe884fe6"
   },
   "outputs": [
    {
     "data": {
      "image/png": "[encoded data removed]",
      "text/plain": [
       "<Figure size 1440x360 with 1 Axes>"
      ]
     },
     "metadata": {
      "needs_background": "light"
     },
     "output_type": "display_data"
    }
   ],
   "source": [
    "# Mencari state dengan postingan iklan terbanyak\n",
    "reg = vehicles['state']\n",
    "\n",
    "df = pd.DataFrame({\n",
    "    'state' : reg,\n",
    "})\n",
    "\n",
    "totalAvgSum = df.groupby(['state']).size()\n",
    "totalAvgSum.sort_values(inplace=True, ascending=False)\n",
    "\n",
    "x_coords = np.arange(len(totalAvgSum))\n",
    "colors = ['#D49DFF' for _ in range(len(totalAvgSum))]\n",
    "colors[0] = '#FF0000'\n",
    "\n",
    "plt.figure(figsize=(20,5))\n",
    "plt.bar(x_coords, totalAvgSum, tick_label=totalAvgSum.index, color=colors)\n",
    "plt.xticks(rotation=90)\n",
    "plt.ylabel('Jumlah Postingan Iklan')\n",
    "plt.xlabel('State')\n",
    "plt.title('Postingan Iklan pada Setiap State')\n",
    "plt.show()"
   ]
  },
  {
   "cell_type": "markdown",
   "metadata": {
    "id": "eATV5kBS4IYA"
   },
   "source": [
    "# Prediksi"
   ]
  },
  {
   "cell_type": "markdown",
   "metadata": {
    "id": "xNlUpIw6LS-k"
   },
   "source": [
    "### Harga Kendaraan Bekas Berdasarkan Type"
   ]
  },
  {
   "cell_type": "markdown",
   "metadata": {
    "id": "MyI-4x9qDWam"
   },
   "source": [
    "#### Pre-processing"
   ]
  },
  {
   "cell_type": "code",
   "execution_count": 309,
   "metadata": {},
   "outputs": [
    {
     "data": {
      "text/html": [
       "<div>\n",
       "<style scoped>\n",
       "    .dataframe tbody tr th:only-of-type {\n",
       "        vertical-align: middle;\n",
       "    }\n",
       "\n",
       "    .dataframe tbody tr th {\n",
       "        vertical-align: top;\n",
       "    }\n",
       "\n",
       "    .dataframe thead th {\n",
       "        text-align: right;\n",
       "    }\n",
       "</style>\n",
       "<table border=\"1\" class=\"dataframe\">\n",
       "  <thead>\n",
       "    <tr style=\"text-align: right;\">\n",
       "      <th></th>\n",
       "      <th>id</th>\n",
       "      <th>url</th>\n",
       "      <th>region</th>\n",
       "      <th>region_url</th>\n",
       "      <th>price</th>\n",
       "      <th>year</th>\n",
       "      <th>manufacturer</th>\n",
       "      <th>model</th>\n",
       "      <th>condition</th>\n",
       "      <th>cylinders</th>\n",
       "      <th>...</th>\n",
       "      <th>drive</th>\n",
       "      <th>size</th>\n",
       "      <th>type</th>\n",
       "      <th>paint_color</th>\n",
       "      <th>image_url</th>\n",
       "      <th>description</th>\n",
       "      <th>state</th>\n",
       "      <th>lat</th>\n",
       "      <th>long</th>\n",
       "      <th>posting_date</th>\n",
       "    </tr>\n",
       "  </thead>\n",
       "  <tbody>\n",
       "    <tr>\n",
       "      <th>0</th>\n",
       "      <td>7222695916</td>\n",
       "      <td>https://prescott.craigslist.org/cto/d/prescott...</td>\n",
       "      <td>prescott</td>\n",
       "      <td>https://prescott.craigslist.org</td>\n",
       "      <td>6000</td>\n",
       "      <td>NaN</td>\n",
       "      <td>NaN</td>\n",
       "      <td>NaN</td>\n",
       "      <td>NaN</td>\n",
       "      <td>NaN</td>\n",
       "      <td>...</td>\n",
       "      <td>NaN</td>\n",
       "      <td>NaN</td>\n",
       "      <td>NaN</td>\n",
       "      <td>NaN</td>\n",
       "      <td>NaN</td>\n",
       "      <td>NaN</td>\n",
       "      <td>az</td>\n",
       "      <td>NaN</td>\n",
       "      <td>NaN</td>\n",
       "      <td>NaN</td>\n",
       "    </tr>\n",
       "    <tr>\n",
       "      <th>1</th>\n",
       "      <td>7218891961</td>\n",
       "      <td>https://fayar.craigslist.org/ctd/d/bentonville...</td>\n",
       "      <td>fayetteville</td>\n",
       "      <td>https://fayar.craigslist.org</td>\n",
       "      <td>11900</td>\n",
       "      <td>NaN</td>\n",
       "      <td>NaN</td>\n",
       "      <td>NaN</td>\n",
       "      <td>NaN</td>\n",
       "      <td>NaN</td>\n",
       "      <td>...</td>\n",
       "      <td>NaN</td>\n",
       "      <td>NaN</td>\n",
       "      <td>NaN</td>\n",
       "      <td>NaN</td>\n",
       "      <td>NaN</td>\n",
       "      <td>NaN</td>\n",
       "      <td>ar</td>\n",
       "      <td>NaN</td>\n",
       "      <td>NaN</td>\n",
       "      <td>NaN</td>\n",
       "    </tr>\n",
       "    <tr>\n",
       "      <th>2</th>\n",
       "      <td>7221797935</td>\n",
       "      <td>https://keys.craigslist.org/cto/d/summerland-k...</td>\n",
       "      <td>florida keys</td>\n",
       "      <td>https://keys.craigslist.org</td>\n",
       "      <td>21000</td>\n",
       "      <td>NaN</td>\n",
       "      <td>NaN</td>\n",
       "      <td>NaN</td>\n",
       "      <td>NaN</td>\n",
       "      <td>NaN</td>\n",
       "      <td>...</td>\n",
       "      <td>NaN</td>\n",
       "      <td>NaN</td>\n",
       "      <td>NaN</td>\n",
       "      <td>NaN</td>\n",
       "      <td>NaN</td>\n",
       "      <td>NaN</td>\n",
       "      <td>fl</td>\n",
       "      <td>NaN</td>\n",
       "      <td>NaN</td>\n",
       "      <td>NaN</td>\n",
       "    </tr>\n",
       "    <tr>\n",
       "      <th>3</th>\n",
       "      <td>7222270760</td>\n",
       "      <td>https://worcester.craigslist.org/cto/d/west-br...</td>\n",
       "      <td>worcester / central MA</td>\n",
       "      <td>https://worcester.craigslist.org</td>\n",
       "      <td>1500</td>\n",
       "      <td>NaN</td>\n",
       "      <td>NaN</td>\n",
       "      <td>NaN</td>\n",
       "      <td>NaN</td>\n",
       "      <td>NaN</td>\n",
       "      <td>...</td>\n",
       "      <td>NaN</td>\n",
       "      <td>NaN</td>\n",
       "      <td>NaN</td>\n",
       "      <td>NaN</td>\n",
       "      <td>NaN</td>\n",
       "      <td>NaN</td>\n",
       "      <td>ma</td>\n",
       "      <td>NaN</td>\n",
       "      <td>NaN</td>\n",
       "      <td>NaN</td>\n",
       "    </tr>\n",
       "    <tr>\n",
       "      <th>4</th>\n",
       "      <td>7210384030</td>\n",
       "      <td>https://greensboro.craigslist.org/cto/d/trinit...</td>\n",
       "      <td>greensboro</td>\n",
       "      <td>https://greensboro.craigslist.org</td>\n",
       "      <td>4900</td>\n",
       "      <td>NaN</td>\n",
       "      <td>NaN</td>\n",
       "      <td>NaN</td>\n",
       "      <td>NaN</td>\n",
       "      <td>NaN</td>\n",
       "      <td>...</td>\n",
       "      <td>NaN</td>\n",
       "      <td>NaN</td>\n",
       "      <td>NaN</td>\n",
       "      <td>NaN</td>\n",
       "      <td>NaN</td>\n",
       "      <td>NaN</td>\n",
       "      <td>nc</td>\n",
       "      <td>NaN</td>\n",
       "      <td>NaN</td>\n",
       "      <td>NaN</td>\n",
       "    </tr>\n",
       "  </tbody>\n",
       "</table>\n",
       "<p>5 rows × 25 columns</p>\n",
       "</div>"
      ],
      "text/plain": [
       "           id                                                url  \\\n",
       "0  7222695916  https://prescott.craigslist.org/cto/d/prescott...   \n",
       "1  7218891961  https://fayar.craigslist.org/ctd/d/bentonville...   \n",
       "2  7221797935  https://keys.craigslist.org/cto/d/summerland-k...   \n",
       "3  7222270760  https://worcester.craigslist.org/cto/d/west-br...   \n",
       "4  7210384030  https://greensboro.craigslist.org/cto/d/trinit...   \n",
       "\n",
       "                   region                         region_url  price  year  \\\n",
       "0                prescott    https://prescott.craigslist.org   6000   NaN   \n",
       "1            fayetteville       https://fayar.craigslist.org  11900   NaN   \n",
       "2            florida keys        https://keys.craigslist.org  21000   NaN   \n",
       "3  worcester / central MA   https://worcester.craigslist.org   1500   NaN   \n",
       "4              greensboro  https://greensboro.craigslist.org   4900   NaN   \n",
       "\n",
       "  manufacturer model condition cylinders  ... drive  size type paint_color  \\\n",
       "0          NaN   NaN       NaN       NaN  ...   NaN   NaN  NaN         NaN   \n",
       "1          NaN   NaN       NaN       NaN  ...   NaN   NaN  NaN         NaN   \n",
       "2          NaN   NaN       NaN       NaN  ...   NaN   NaN  NaN         NaN   \n",
       "3          NaN   NaN       NaN       NaN  ...   NaN   NaN  NaN         NaN   \n",
       "4          NaN   NaN       NaN       NaN  ...   NaN   NaN  NaN         NaN   \n",
       "\n",
       "  image_url description state lat long posting_date  \n",
       "0       NaN         NaN    az NaN  NaN          NaN  \n",
       "1       NaN         NaN    ar NaN  NaN          NaN  \n",
       "2       NaN         NaN    fl NaN  NaN          NaN  \n",
       "3       NaN         NaN    ma NaN  NaN          NaN  \n",
       "4       NaN         NaN    nc NaN  NaN          NaN  \n",
       "\n",
       "[5 rows x 25 columns]"
      ]
     },
     "execution_count": 309,
     "metadata": {},
     "output_type": "execute_result"
    }
   ],
   "source": [
    "# Data Copy for Harga Kendaraan\n",
    "data_harga = vehicles.copy()\n",
    "data_harga.head()"
   ]
  },
  {
   "cell_type": "code",
   "execution_count": 310,
   "metadata": {},
   "outputs": [
    {
     "data": {
      "text/html": [
       "<div>\n",
       "<style scoped>\n",
       "    .dataframe tbody tr th:only-of-type {\n",
       "        vertical-align: middle;\n",
       "    }\n",
       "\n",
       "    .dataframe tbody tr th {\n",
       "        vertical-align: top;\n",
       "    }\n",
       "\n",
       "    .dataframe thead th {\n",
       "        text-align: right;\n",
       "    }\n",
       "</style>\n",
       "<table border=\"1\" class=\"dataframe\">\n",
       "  <thead>\n",
       "    <tr style=\"text-align: right;\">\n",
       "      <th></th>\n",
       "      <th>price</th>\n",
       "      <th>type</th>\n",
       "    </tr>\n",
       "  </thead>\n",
       "  <tbody>\n",
       "    <tr>\n",
       "      <th>0</th>\n",
       "      <td>6000</td>\n",
       "      <td>NaN</td>\n",
       "    </tr>\n",
       "    <tr>\n",
       "      <th>1</th>\n",
       "      <td>11900</td>\n",
       "      <td>NaN</td>\n",
       "    </tr>\n",
       "    <tr>\n",
       "      <th>2</th>\n",
       "      <td>21000</td>\n",
       "      <td>NaN</td>\n",
       "    </tr>\n",
       "    <tr>\n",
       "      <th>3</th>\n",
       "      <td>1500</td>\n",
       "      <td>NaN</td>\n",
       "    </tr>\n",
       "    <tr>\n",
       "      <th>4</th>\n",
       "      <td>4900</td>\n",
       "      <td>NaN</td>\n",
       "    </tr>\n",
       "    <tr>\n",
       "      <th>...</th>\n",
       "      <td>...</td>\n",
       "      <td>...</td>\n",
       "    </tr>\n",
       "    <tr>\n",
       "      <th>426875</th>\n",
       "      <td>23590</td>\n",
       "      <td>sedan</td>\n",
       "    </tr>\n",
       "    <tr>\n",
       "      <th>426876</th>\n",
       "      <td>30590</td>\n",
       "      <td>sedan</td>\n",
       "    </tr>\n",
       "    <tr>\n",
       "      <th>426877</th>\n",
       "      <td>34990</td>\n",
       "      <td>hatchback</td>\n",
       "    </tr>\n",
       "    <tr>\n",
       "      <th>426878</th>\n",
       "      <td>28990</td>\n",
       "      <td>sedan</td>\n",
       "    </tr>\n",
       "    <tr>\n",
       "      <th>426879</th>\n",
       "      <td>30590</td>\n",
       "      <td>coupe</td>\n",
       "    </tr>\n",
       "  </tbody>\n",
       "</table>\n",
       "<p>426880 rows × 2 columns</p>\n",
       "</div>"
      ],
      "text/plain": [
       "        price       type\n",
       "0        6000        NaN\n",
       "1       11900        NaN\n",
       "2       21000        NaN\n",
       "3        1500        NaN\n",
       "4        4900        NaN\n",
       "...       ...        ...\n",
       "426875  23590      sedan\n",
       "426876  30590      sedan\n",
       "426877  34990  hatchback\n",
       "426878  28990      sedan\n",
       "426879  30590      coupe\n",
       "\n",
       "[426880 rows x 2 columns]"
      ]
     },
     "execution_count": 310,
     "metadata": {},
     "output_type": "execute_result"
    }
   ],
   "source": [
    "col = ['price','type']\n",
    "fin_data = data_harga[col]\n",
    "fin_data"
   ]
  },
  {
   "cell_type": "code",
   "execution_count": 311,
   "metadata": {},
   "outputs": [],
   "source": [
    "# Missing Values Function\n",
    "def cek_missvalue(df):\n",
    "  col_mv = df.isnull().sum().sort_values(ascending=False)\n",
    "  percent = (col_mv / len(df))*100\n",
    "\n",
    "  missing_data = pd.concat([col_mv, percent], axis=1, keys=[\"Total Missing Value\", \"Percent\"])\n",
    "  print(missing_data[missing_data['Total Missing Value'] > 0])"
   ]
  },
  {
   "cell_type": "code",
   "execution_count": 312,
   "metadata": {},
   "outputs": [
    {
     "name": "stdout",
     "output_type": "stream",
     "text": [
      "      Total Missing Value    Percent\n",
      "type                92858  21.752717\n"
     ]
    }
   ],
   "source": [
    "# Check Missing Value\n",
    "cek_missvalue(fin_data)"
   ]
  },
  {
   "cell_type": "code",
   "execution_count": 313,
   "metadata": {},
   "outputs": [
    {
     "name": "stderr",
     "output_type": "stream",
     "text": [
      "/usr/local/lib/python3.9/site-packages/pandas/util/_decorators.py:311: SettingWithCopyWarning: \n",
      "A value is trying to be set on a copy of a slice from a DataFrame\n",
      "\n",
      "See the caveats in the documentation: https://pandas.pydata.org/pandas-docs/stable/user_guide/indexing.html#returning-a-view-versus-a-copy\n",
      "  return func(*args, **kwargs)\n"
     ]
    }
   ],
   "source": [
    "fin_data.dropna(inplace=True)"
   ]
  },
  {
   "cell_type": "code",
   "execution_count": 314,
   "metadata": {},
   "outputs": [
    {
     "name": "stdout",
     "output_type": "stream",
     "text": [
      "Dimensi data: (334022, 2)\n"
     ]
    }
   ],
   "source": [
    "print('Dimensi data:', fin_data.shape)"
   ]
  },
  {
   "cell_type": "code",
   "execution_count": 315,
   "metadata": {},
   "outputs": [
    {
     "name": "stdout",
     "output_type": "stream",
     "text": [
      "Empty DataFrame\n",
      "Columns: [Total Missing Value, Percent]\n",
      "Index: []\n"
     ]
    }
   ],
   "source": [
    "cek_missvalue(fin_data)"
   ]
  },
  {
   "cell_type": "code",
   "execution_count": 316,
   "metadata": {},
   "outputs": [],
   "source": [
    "# outlier handler\n",
    "\n",
    "def outlierChecker(data):\n",
    "    q1 = data.quantile(0.25)\n",
    "    q3 = data.quantile(0.75)\n",
    "    iqr = q3 - q1\n",
    "    \n",
    "    # data_check = ((data < (q1 - 1.5 * iqr)) | (data > (q3 + 1.5 * iqr)))\n",
    "    # out = {\n",
    "    #     data_check.sum().sort_values(ascending=False)\n",
    "    # }\n",
    "    \n",
    "    # outlierTotal = pd.DataFrame([out, (out/len(data))], axis=1, keys=['Total','Persen'])\n",
    "    # print(outlierTotal['Total'] > 0)\n",
    "    print(\"Jumlah data sebelum: \\n\", data.count())\n",
    "    data_no = data[~((data < (q1 - 1.5 * iqr)) |(data > (q3 + 1.5 * iqr))).any(axis=1)]\n",
    "    print(\"Jumlah data setelah: \\n\", data_no.count())"
   ]
  },
  {
   "cell_type": "code",
   "execution_count": 317,
   "metadata": {},
   "outputs": [
    {
     "name": "stdout",
     "output_type": "stream",
     "text": [
      "-25135.0 59225.0\n",
      "Jumlah data sebelum: \n",
      " price    328267\n",
      "type     328267\n",
      "dtype: int64\n",
      "Jumlah data setelah: \n",
      " price    327708\n",
      "type     327708\n",
      "dtype: int64\n"
     ]
    },
    {
     "name": "stderr",
     "output_type": "stream",
     "text": [
      "/var/folders/gh/ys14pl_548q3n_mlxhsk4rt00000gn/T/ipykernel_8065/1407738860.py:16: FutureWarning: Automatic reindexing on DataFrame vs Series comparisons is deprecated and will raise ValueError in a future version.  Do `left, right = left.align(right, axis=1, copy=False)` before e.g. `left == right`\n",
      "  data_no = data[~((data < (q1 - 1.5 * iqr)) |(data > (q3 + 1.5 * iqr))).any(axis=1)]\n"
     ]
    }
   ],
   "source": [
    "#Outlier pada price\n",
    "q1_price = fin_data['price'].quantile(0.25)\n",
    "q3_price = fin_data['price'].quantile(0.75)\n",
    "iqr = q3_price - q1_price\n",
    "\n",
    "lower_price = q1_price - (1.5*iqr)\n",
    "upper_price = q3_price + (1.5*iqr)\n",
    "print(lower_price, upper_price)\n",
    "\n",
    "fin_data = fin_data[(fin_data['price'] <= upper_price) & (fin_data['price'] >= lower_price)]\n",
    "outlierChecker(fin_data)"
   ]
  },
  {
   "cell_type": "code",
   "execution_count": 318,
   "metadata": {},
   "outputs": [
    {
     "name": "stderr",
     "output_type": "stream",
     "text": [
      "/var/folders/gh/ys14pl_548q3n_mlxhsk4rt00000gn/T/ipykernel_8065/1208473740.py:5: SettingWithCopyWarning: \n",
      "A value is trying to be set on a copy of a slice from a DataFrame.\n",
      "Try using .loc[row_indexer,col_indexer] = value instead\n",
      "\n",
      "See the caveats in the documentation: https://pandas.pydata.org/pandas-docs/stable/user_guide/indexing.html#returning-a-view-versus-a-copy\n",
      "  fin_data['type'] = label.fit_transform(fin_data['type'])\n"
     ]
    }
   ],
   "source": [
    "# Label Encoder\n",
    "from sklearn.preprocessing import LabelEncoder\n",
    "\n",
    "label = LabelEncoder()\n",
    "fin_data['type'] = label.fit_transform(fin_data['type'])"
   ]
  },
  {
   "cell_type": "code",
   "execution_count": 319,
   "metadata": {},
   "outputs": [
    {
     "data": {
      "text/html": [
       "<div>\n",
       "<style scoped>\n",
       "    .dataframe tbody tr th:only-of-type {\n",
       "        vertical-align: middle;\n",
       "    }\n",
       "\n",
       "    .dataframe tbody tr th {\n",
       "        vertical-align: top;\n",
       "    }\n",
       "\n",
       "    .dataframe thead th {\n",
       "        text-align: right;\n",
       "    }\n",
       "</style>\n",
       "<table border=\"1\" class=\"dataframe\">\n",
       "  <thead>\n",
       "    <tr style=\"text-align: right;\">\n",
       "      <th></th>\n",
       "      <th>price</th>\n",
       "      <th>type</th>\n",
       "    </tr>\n",
       "  </thead>\n",
       "  <tbody>\n",
       "    <tr>\n",
       "      <th>27</th>\n",
       "      <td>33590</td>\n",
       "      <td>8</td>\n",
       "    </tr>\n",
       "    <tr>\n",
       "      <th>28</th>\n",
       "      <td>22590</td>\n",
       "      <td>8</td>\n",
       "    </tr>\n",
       "    <tr>\n",
       "      <th>29</th>\n",
       "      <td>39590</td>\n",
       "      <td>8</td>\n",
       "    </tr>\n",
       "    <tr>\n",
       "      <th>30</th>\n",
       "      <td>30990</td>\n",
       "      <td>8</td>\n",
       "    </tr>\n",
       "    <tr>\n",
       "      <th>31</th>\n",
       "      <td>15000</td>\n",
       "      <td>10</td>\n",
       "    </tr>\n",
       "    <tr>\n",
       "      <th>...</th>\n",
       "      <td>...</td>\n",
       "      <td>...</td>\n",
       "    </tr>\n",
       "    <tr>\n",
       "      <th>426875</th>\n",
       "      <td>23590</td>\n",
       "      <td>9</td>\n",
       "    </tr>\n",
       "    <tr>\n",
       "      <th>426876</th>\n",
       "      <td>30590</td>\n",
       "      <td>9</td>\n",
       "    </tr>\n",
       "    <tr>\n",
       "      <th>426877</th>\n",
       "      <td>34990</td>\n",
       "      <td>4</td>\n",
       "    </tr>\n",
       "    <tr>\n",
       "      <th>426878</th>\n",
       "      <td>28990</td>\n",
       "      <td>9</td>\n",
       "    </tr>\n",
       "    <tr>\n",
       "      <th>426879</th>\n",
       "      <td>30590</td>\n",
       "      <td>3</td>\n",
       "    </tr>\n",
       "  </tbody>\n",
       "</table>\n",
       "<p>328267 rows × 2 columns</p>\n",
       "</div>"
      ],
      "text/plain": [
       "        price  type\n",
       "27      33590     8\n",
       "28      22590     8\n",
       "29      39590     8\n",
       "30      30990     8\n",
       "31      15000    10\n",
       "...       ...   ...\n",
       "426875  23590     9\n",
       "426876  30590     9\n",
       "426877  34990     4\n",
       "426878  28990     9\n",
       "426879  30590     3\n",
       "\n",
       "[328267 rows x 2 columns]"
      ]
     },
     "execution_count": 319,
     "metadata": {},
     "output_type": "execute_result"
    }
   ],
   "source": [
    "# Membuat harga menjadi beberapa kategori\n",
    "fin_data\n",
    "# data_new = pd.DataFrame(kat)\n",
    "# data_new.head()\n",
    "# bins = pd.qcut(fin_data['price'], q=4)\n",
    "# bins = pd.qcut(fin_data['price'], q=10, precision=0)\n",
    "# fin_data['price_bin'] = bins.cat.codes\n",
    "# clean_data.head()\n",
    "# print(bins)"
   ]
  },
  {
   "cell_type": "code",
   "execution_count": 331,
   "metadata": {},
   "outputs": [],
   "source": [
    "from sklearn.linear_model import LinearRegression\n",
    "from sklearn.model_selection import train_test_split\n",
    "\n",
    "# X = vehicles.drop(['price'], axis=1)\n",
    "target = fin_data['price'].values\n",
    "pred = fin_data.drop(columns=['price'], axis=1).values\n",
    "\n",
    "# define data training and testing from both attributes\n",
    "X_train_harga, X_test_harga, y_train_harga, y_test_harga = train_test_split(pred,target, train_size = 0.7, random_state=123)"
   ]
  },
  {
   "cell_type": "code",
   "execution_count": 332,
   "metadata": {},
   "outputs": [],
   "source": [
    "from sklearn.preprocessing import MinMaxScaler\n",
    "\n",
    "#define the scaler\n",
    "scaler = MinMaxScaler()\n",
    "\n",
    "x_train_harga = scaler.fit_transform(X_train_harga)\n",
    "x_test_harga = scaler.transform(X_test_harga)"
   ]
  },
  {
   "cell_type": "code",
   "execution_count": 337,
   "metadata": {},
   "outputs": [
    {
     "data": {
      "text/plain": [
       "RandomForestClassifier(max_depth=3)"
      ]
     },
     "execution_count": 337,
     "metadata": {},
     "output_type": "execute_result"
    }
   ],
   "source": [
    "from sklearn.tree import DecisionTreeClassifier, plot_tree\n",
    "from sklearn.ensemble import RandomForestClassifier\n",
    "from sklearn.linear_model import Ridge\n",
    "from sklearn.linear_model import LinearRegression\n",
    "from sklearn.linear_model import Ridge\n",
    "\n",
    "rf_md3 = RandomForestClassifier(max_depth=3)\n",
    "rf_md3.fit(X_train_harga, y_train_harga)\n",
    "\n",
    "# clf = Ridge(alpha=1.0)\n",
    "# clf.fit(x_train_harga, y_train_harga)\n",
    "\n",
    "# Melakukan training pada model decision tree\n",
    "# clf_harga = DecisionTreeClassifier(random_state=0, criterion='entropy')\n",
    "# clf_harga.fit(x_train_harga, y_train_harga)"
   ]
  },
  {
   "cell_type": "code",
   "execution_count": null,
   "metadata": {},
   "outputs": [],
   "source": [
    "# from sklearn.metrics import accuracy_score, precision_score, recall_score, f1_score\n",
    "# # Memprediksi data testing\n",
    "# predicted = rf_md3.predict(X_test_harga)\n",
    "\n",
    "# # Menampilkan metrics evaluasi berupa nilai akurasi, presisi, recall, dan F1-Score\n",
    "# print(\"Akurasi:\", accuracy_score(y_test_harga, predicted))\n",
    "# print(\"Presisi:\", precision_score(y_test_harga, predicted))\n",
    "# print(\"Recall:\", recall_score(y_test_harga, predicted))\n",
    "# print(\"F1-score:\", f1_score(y_test_harga, predicted))"
   ]
  },
  {
   "cell_type": "code",
   "execution_count": 334,
   "metadata": {},
   "outputs": [
    {
     "data": {
      "text/html": [
       "<div>\n",
       "<style scoped>\n",
       "    .dataframe tbody tr th:only-of-type {\n",
       "        vertical-align: middle;\n",
       "    }\n",
       "\n",
       "    .dataframe tbody tr th {\n",
       "        vertical-align: top;\n",
       "    }\n",
       "\n",
       "    .dataframe thead th {\n",
       "        text-align: right;\n",
       "    }\n",
       "</style>\n",
       "<table border=\"1\" class=\"dataframe\">\n",
       "  <thead>\n",
       "    <tr style=\"text-align: right;\">\n",
       "      <th></th>\n",
       "      <th>Type</th>\n",
       "      <th>Harga (predicted)</th>\n",
       "      <th>Harga (actual)</th>\n",
       "    </tr>\n",
       "  </thead>\n",
       "  <tbody>\n",
       "    <tr>\n",
       "      <th>0</th>\n",
       "      <td>0.833333</td>\n",
       "      <td>17798.652098</td>\n",
       "      <td>29990</td>\n",
       "    </tr>\n",
       "    <tr>\n",
       "      <th>1</th>\n",
       "      <td>0.000000</td>\n",
       "      <td>16456.961969</td>\n",
       "      <td>43598</td>\n",
       "    </tr>\n",
       "    <tr>\n",
       "      <th>2</th>\n",
       "      <td>0.750000</td>\n",
       "      <td>17664.483085</td>\n",
       "      <td>15590</td>\n",
       "    </tr>\n",
       "    <tr>\n",
       "      <th>3</th>\n",
       "      <td>0.750000</td>\n",
       "      <td>17664.483085</td>\n",
       "      <td>6900</td>\n",
       "    </tr>\n",
       "    <tr>\n",
       "      <th>4</th>\n",
       "      <td>0.333333</td>\n",
       "      <td>16993.638021</td>\n",
       "      <td>10000</td>\n",
       "    </tr>\n",
       "    <tr>\n",
       "      <th>...</th>\n",
       "      <td>...</td>\n",
       "      <td>...</td>\n",
       "      <td>...</td>\n",
       "    </tr>\n",
       "    <tr>\n",
       "      <th>98476</th>\n",
       "      <td>0.000000</td>\n",
       "      <td>16456.961969</td>\n",
       "      <td>7950</td>\n",
       "    </tr>\n",
       "    <tr>\n",
       "      <th>98477</th>\n",
       "      <td>0.750000</td>\n",
       "      <td>17664.483085</td>\n",
       "      <td>19000</td>\n",
       "    </tr>\n",
       "    <tr>\n",
       "      <th>98478</th>\n",
       "      <td>0.750000</td>\n",
       "      <td>17664.483085</td>\n",
       "      <td>17990</td>\n",
       "    </tr>\n",
       "    <tr>\n",
       "      <th>98479</th>\n",
       "      <td>0.250000</td>\n",
       "      <td>16859.469008</td>\n",
       "      <td>36990</td>\n",
       "    </tr>\n",
       "    <tr>\n",
       "      <th>98480</th>\n",
       "      <td>0.416667</td>\n",
       "      <td>17127.807034</td>\n",
       "      <td>7499</td>\n",
       "    </tr>\n",
       "  </tbody>\n",
       "</table>\n",
       "<p>98481 rows × 3 columns</p>\n",
       "</div>"
      ],
      "text/plain": [
       "           Type  Harga (predicted)  Harga (actual)\n",
       "0      0.833333       17798.652098           29990\n",
       "1      0.000000       16456.961969           43598\n",
       "2      0.750000       17664.483085           15590\n",
       "3      0.750000       17664.483085            6900\n",
       "4      0.333333       16993.638021           10000\n",
       "...         ...                ...             ...\n",
       "98476  0.000000       16456.961969            7950\n",
       "98477  0.750000       17664.483085           19000\n",
       "98478  0.750000       17664.483085           17990\n",
       "98479  0.250000       16859.469008           36990\n",
       "98480  0.416667       17127.807034            7499\n",
       "\n",
       "[98481 rows x 3 columns]"
      ]
     },
     "execution_count": 334,
     "metadata": {},
     "output_type": "execute_result"
    }
   ],
   "source": [
    "# # predicted_harga = clf_harga.predict(x_test_harga)\n",
    "# y_pred = clf.predict(x_test_harga)\n",
    "\n",
    "# data_eval = pd.DataFrame({'Type': x_test_harga.flatten(), 'Harga (predicted)': y_pred.flatten(), 'Harga (actual)': y_test_harga.flatten(), })\n",
    "# data_eval"
   ]
  },
  {
   "cell_type": "code",
   "execution_count": 324,
   "metadata": {},
   "outputs": [
    {
     "data": {
      "text/plain": [
       "array([ 8, 10,  7,  3,  0,  4,  5,  9,  6,  1, 11,  2, 12])"
      ]
     },
     "execution_count": 324,
     "metadata": {},
     "output_type": "execute_result"
    }
   ],
   "source": [
    "fin_data['type'].unique()"
   ]
  },
  {
   "cell_type": "code",
   "execution_count": 335,
   "metadata": {},
   "outputs": [
    {
     "data": {
      "image/png": "[encoded data removed]",
      "text/plain": [
       "<Figure size 1440x1080 with 1 Axes>"
      ]
     },
     "metadata": {
      "needs_background": "light"
     },
     "output_type": "display_data"
    }
   ],
   "source": [
    "# Visualisasi\n",
    "data_only= data_eval[['Harga (actual)', 'Harga (predicted)']]       # Mengambil atribut actual dan predicted saja dari dataframe\n",
    "df_temp = data_only.head(20)\n",
    "df_temp.plot(kind='bar',figsize=(20,15))\n",
    "plt.grid(which='major', linestyle='-', linewidth='0.5', color='green')\n",
    "plt.show()"
   ]
  },
  {
   "cell_type": "code",
   "execution_count": 336,
   "metadata": {},
   "outputs": [
    {
     "name": "stdout",
     "output_type": "stream",
     "text": [
      "Nilai MSE:  291031695.8882174\n",
      "Nilai MAE:  14303.199985598803\n",
      "Nilai RMSE:  17059.651106872538\n",
      "Nilai R2:  -0.6520015760600086\n"
     ]
    }
   ],
   "source": [
    "# Nilai MSE\n",
    "from sklearn.metrics import mean_squared_error\n",
    "from sklearn.metrics import mean_absolute_error\n",
    "from sklearn.metrics import r2_score\n",
    "\n",
    "y_pred2 = clf.predict(X_test_harga)\n",
    "MSE = mean_squared_error(y_test_harga,y_pred2)\n",
    "MAE = mean_absolute_error(y_test_harga,y_pred2)\n",
    "RMSE = np.sqrt(MSE)\n",
    "R2 = r2_score(y_test_harga, y_pred2)\n",
    "\n",
    "print(\"Nilai MSE: \", MSE)\n",
    "print(\"Nilai MAE: \", MAE)\n",
    "print(\"Nilai RMSE: \", RMSE)\n",
    "print(\"Nilai R2: \", R2)"
   ]
  },
  {
   "cell_type": "code",
   "execution_count": 220,
   "metadata": {},
   "outputs": [
    {
     "name": "stdout",
     "output_type": "stream",
     "text": [
      "<class 'pandas.core.frame.DataFrame'>\n",
      "Int64Index: 334022 entries, 27 to 426879\n",
      "Data columns (total 2 columns):\n",
      " #   Column  Non-Null Count   Dtype\n",
      "---  ------  --------------   -----\n",
      " 0   price   334022 non-null  int64\n",
      " 1   type    334022 non-null  int64\n",
      "dtypes: int64(2)\n",
      "memory usage: 7.6 MB\n"
     ]
    }
   ],
   "source": [
    "fin_data.info()"
   ]
  },
  {
   "cell_type": "code",
   "execution_count": null,
   "metadata": {},
   "outputs": [],
   "source": [
    "y_pred = rf_md3.predict(X_test_harga)\n",
    "# Menampilkan metrics evaluasi berupa nilai akurasi, presisi, recall, dan F1-Score\n",
    "print(\"Akurasi:\", accuracy_score(y_test_harga, y_pred))\n",
    "print(\"Presisi:\", precision_score(y_test_harga, y_pred, average='weighted', labels=np.unique(predicted_harga)))\n",
    "print(\"Recall:\", recall_score(y_test_harga, y_pred, average='weighted'))\n",
    "print(\"F1-score:\", f1_score(y_test_harga, y_pred, average='weighted'))"
   ]
  },
  {
   "cell_type": "code",
   "execution_count": 76,
   "metadata": {},
   "outputs": [],
   "source": [
    "# from sklearn.metrics import precision_score, \\\n",
    "#     recall_score, classification_report, \\\n",
    "#     accuracy_score, f1_score, ConfusionMatrixDisplay\n",
    "\n",
    "# def evaluate_classifier_performance(classifier, prediction, y_test):\n",
    "#     # Informasi evaluasi secara compact\n",
    "#     print(\"Hasil Evaluasi:\\n\\n%s\\n\" % (classification_report(y_test, classifier.predict(X_test))))\n",
    "\n",
    "#     # Butuh informasi lebih lengkap? silakan disimak di bawah ini\n",
    "#     print('Accuracy:', accuracy_score(y_test, prediction))\n",
    "#     print('Precision Macro Average:', precision_score(y_test, prediction, average='macro'))\n",
    "#     print('Precision Micro Average:', precision_score(y_test, prediction, average='micro'))\n",
    "#     print('Recall Macro Average:', recall_score(y_test, prediction, average='macro'))\n",
    "#     print('Recall Micro Average:', recall_score(y_test, prediction, average='micro'))\n",
    "#     print('F1 Macro Average:', f1_score(y_test, prediction, average='macro'))\n",
    "#     print('F1 Micro Average:', f1_score(y_test, prediction, average='micro'))\n",
    "\n",
    "#     # Confusion Matrix\n",
    "#     print(\"\\n\\nConfusion Matrix\\n\")\n",
    "#     ConfusionMatrixDisplay.from_estimator(classifier, X_test, y_test)"
   ]
  },
  {
   "cell_type": "code",
   "execution_count": 85,
   "metadata": {},
   "outputs": [
    {
     "name": "stderr",
     "output_type": "stream",
     "text": [
      "/usr/local/lib/python3.9/site-packages/sklearn/base.py:438: UserWarning: X has feature names, but DecisionTreeClassifier was fitted without feature names\n",
      "  warnings.warn(\n"
     ]
    },
    {
     "ename": "ValueError",
     "evalue": "could not convert string to float: 'other'",
     "output_type": "error",
     "traceback": [
      "\u001b[0;31m---------------------------------------------------------------------------\u001b[0m",
      "\u001b[0;31mValueError\u001b[0m                                Traceback (most recent call last)",
      "\u001b[0;32m/var/folders/gh/ys14pl_548q3n_mlxhsk4rt00000gn/T/ipykernel_8065/2552369309.py\u001b[0m in \u001b[0;36m<module>\u001b[0;34m\u001b[0m\n\u001b[0;32m----> 1\u001b[0;31m \u001b[0mevaluate_classifier_performance\u001b[0m\u001b[0;34m(\u001b[0m\u001b[0mclf_harga\u001b[0m\u001b[0;34m,\u001b[0m \u001b[0mpredicted_harga\u001b[0m\u001b[0;34m,\u001b[0m \u001b[0my_test_harga\u001b[0m\u001b[0;34m)\u001b[0m\u001b[0;34m\u001b[0m\u001b[0;34m\u001b[0m\u001b[0m\n\u001b[0m",
      "\u001b[0;32m/var/folders/gh/ys14pl_548q3n_mlxhsk4rt00000gn/T/ipykernel_8065/2818683080.py\u001b[0m in \u001b[0;36mevaluate_classifier_performance\u001b[0;34m(classifier, prediction, y_test)\u001b[0m\n\u001b[1;32m      5\u001b[0m \u001b[0;32mdef\u001b[0m \u001b[0mevaluate_classifier_performance\u001b[0m\u001b[0;34m(\u001b[0m\u001b[0mclassifier\u001b[0m\u001b[0;34m,\u001b[0m \u001b[0mprediction\u001b[0m\u001b[0;34m,\u001b[0m \u001b[0my_test\u001b[0m \u001b[0;34m=\u001b[0m \u001b[0my_test\u001b[0m\u001b[0;34m)\u001b[0m\u001b[0;34m:\u001b[0m\u001b[0;34m\u001b[0m\u001b[0;34m\u001b[0m\u001b[0m\n\u001b[1;32m      6\u001b[0m     \u001b[0;31m# Informasi evaluasi secara compact\u001b[0m\u001b[0;34m\u001b[0m\u001b[0;34m\u001b[0m\u001b[0m\n\u001b[0;32m----> 7\u001b[0;31m     \u001b[0mprint\u001b[0m\u001b[0;34m(\u001b[0m\u001b[0;34m\"Hasil Evaluasi:\\n\\n%s\\n\"\u001b[0m \u001b[0;34m%\u001b[0m \u001b[0;34m(\u001b[0m\u001b[0mclassification_report\u001b[0m\u001b[0;34m(\u001b[0m\u001b[0my_test\u001b[0m\u001b[0;34m,\u001b[0m \u001b[0mclassifier\u001b[0m\u001b[0;34m.\u001b[0m\u001b[0mpredict\u001b[0m\u001b[0;34m(\u001b[0m\u001b[0mX_test\u001b[0m\u001b[0;34m)\u001b[0m\u001b[0;34m)\u001b[0m\u001b[0;34m)\u001b[0m\u001b[0;34m)\u001b[0m\u001b[0;34m\u001b[0m\u001b[0;34m\u001b[0m\u001b[0m\n\u001b[0m\u001b[1;32m      8\u001b[0m \u001b[0;34m\u001b[0m\u001b[0m\n\u001b[1;32m      9\u001b[0m     \u001b[0;31m# Butuh informasi lebih lengkap? silakan disimak di bawah ini\u001b[0m\u001b[0;34m\u001b[0m\u001b[0;34m\u001b[0m\u001b[0m\n",
      "\u001b[0;32m/usr/local/lib/python3.9/site-packages/sklearn/tree/_classes.py\u001b[0m in \u001b[0;36mpredict\u001b[0;34m(self, X, check_input)\u001b[0m\n\u001b[1;32m    465\u001b[0m         \"\"\"\n\u001b[1;32m    466\u001b[0m         \u001b[0mcheck_is_fitted\u001b[0m\u001b[0;34m(\u001b[0m\u001b[0mself\u001b[0m\u001b[0;34m)\u001b[0m\u001b[0;34m\u001b[0m\u001b[0;34m\u001b[0m\u001b[0m\n\u001b[0;32m--> 467\u001b[0;31m         \u001b[0mX\u001b[0m \u001b[0;34m=\u001b[0m \u001b[0mself\u001b[0m\u001b[0;34m.\u001b[0m\u001b[0m_validate_X_predict\u001b[0m\u001b[0;34m(\u001b[0m\u001b[0mX\u001b[0m\u001b[0;34m,\u001b[0m \u001b[0mcheck_input\u001b[0m\u001b[0;34m)\u001b[0m\u001b[0;34m\u001b[0m\u001b[0;34m\u001b[0m\u001b[0m\n\u001b[0m\u001b[1;32m    468\u001b[0m         \u001b[0mproba\u001b[0m \u001b[0;34m=\u001b[0m \u001b[0mself\u001b[0m\u001b[0;34m.\u001b[0m\u001b[0mtree_\u001b[0m\u001b[0;34m.\u001b[0m\u001b[0mpredict\u001b[0m\u001b[0;34m(\u001b[0m\u001b[0mX\u001b[0m\u001b[0;34m)\u001b[0m\u001b[0;34m\u001b[0m\u001b[0;34m\u001b[0m\u001b[0m\n\u001b[1;32m    469\u001b[0m         \u001b[0mn_samples\u001b[0m \u001b[0;34m=\u001b[0m \u001b[0mX\u001b[0m\u001b[0;34m.\u001b[0m\u001b[0mshape\u001b[0m\u001b[0;34m[\u001b[0m\u001b[0;36m0\u001b[0m\u001b[0;34m]\u001b[0m\u001b[0;34m\u001b[0m\u001b[0;34m\u001b[0m\u001b[0m\n",
      "\u001b[0;32m/usr/local/lib/python3.9/site-packages/sklearn/tree/_classes.py\u001b[0m in \u001b[0;36m_validate_X_predict\u001b[0;34m(self, X, check_input)\u001b[0m\n\u001b[1;32m    431\u001b[0m         \u001b[0;34m\"\"\"Validate the training data on predict (probabilities).\"\"\"\u001b[0m\u001b[0;34m\u001b[0m\u001b[0;34m\u001b[0m\u001b[0m\n\u001b[1;32m    432\u001b[0m         \u001b[0;32mif\u001b[0m \u001b[0mcheck_input\u001b[0m\u001b[0;34m:\u001b[0m\u001b[0;34m\u001b[0m\u001b[0;34m\u001b[0m\u001b[0m\n\u001b[0;32m--> 433\u001b[0;31m             \u001b[0mX\u001b[0m \u001b[0;34m=\u001b[0m \u001b[0mself\u001b[0m\u001b[0;34m.\u001b[0m\u001b[0m_validate_data\u001b[0m\u001b[0;34m(\u001b[0m\u001b[0mX\u001b[0m\u001b[0;34m,\u001b[0m \u001b[0mdtype\u001b[0m\u001b[0;34m=\u001b[0m\u001b[0mDTYPE\u001b[0m\u001b[0;34m,\u001b[0m \u001b[0maccept_sparse\u001b[0m\u001b[0;34m=\u001b[0m\u001b[0;34m\"csr\"\u001b[0m\u001b[0;34m,\u001b[0m \u001b[0mreset\u001b[0m\u001b[0;34m=\u001b[0m\u001b[0;32mFalse\u001b[0m\u001b[0;34m)\u001b[0m\u001b[0;34m\u001b[0m\u001b[0;34m\u001b[0m\u001b[0m\n\u001b[0m\u001b[1;32m    434\u001b[0m             if issparse(X) and (\n\u001b[1;32m    435\u001b[0m                 \u001b[0mX\u001b[0m\u001b[0;34m.\u001b[0m\u001b[0mindices\u001b[0m\u001b[0;34m.\u001b[0m\u001b[0mdtype\u001b[0m \u001b[0;34m!=\u001b[0m \u001b[0mnp\u001b[0m\u001b[0;34m.\u001b[0m\u001b[0mintc\u001b[0m \u001b[0;32mor\u001b[0m \u001b[0mX\u001b[0m\u001b[0;34m.\u001b[0m\u001b[0mindptr\u001b[0m\u001b[0;34m.\u001b[0m\u001b[0mdtype\u001b[0m \u001b[0;34m!=\u001b[0m \u001b[0mnp\u001b[0m\u001b[0;34m.\u001b[0m\u001b[0mintc\u001b[0m\u001b[0;34m\u001b[0m\u001b[0;34m\u001b[0m\u001b[0m\n",
      "\u001b[0;32m/usr/local/lib/python3.9/site-packages/sklearn/base.py\u001b[0m in \u001b[0;36m_validate_data\u001b[0;34m(self, X, y, reset, validate_separately, **check_params)\u001b[0m\n\u001b[1;32m    559\u001b[0m             \u001b[0;32mraise\u001b[0m \u001b[0mValueError\u001b[0m\u001b[0;34m(\u001b[0m\u001b[0;34m\"Validation should be done on X, y or both.\"\u001b[0m\u001b[0;34m)\u001b[0m\u001b[0;34m\u001b[0m\u001b[0;34m\u001b[0m\u001b[0m\n\u001b[1;32m    560\u001b[0m         \u001b[0;32melif\u001b[0m \u001b[0;32mnot\u001b[0m \u001b[0mno_val_X\u001b[0m \u001b[0;32mand\u001b[0m \u001b[0mno_val_y\u001b[0m\u001b[0;34m:\u001b[0m\u001b[0;34m\u001b[0m\u001b[0;34m\u001b[0m\u001b[0m\n\u001b[0;32m--> 561\u001b[0;31m             \u001b[0mX\u001b[0m \u001b[0;34m=\u001b[0m \u001b[0mcheck_array\u001b[0m\u001b[0;34m(\u001b[0m\u001b[0mX\u001b[0m\u001b[0;34m,\u001b[0m \u001b[0;34m**\u001b[0m\u001b[0mcheck_params\u001b[0m\u001b[0;34m)\u001b[0m\u001b[0;34m\u001b[0m\u001b[0;34m\u001b[0m\u001b[0m\n\u001b[0m\u001b[1;32m    562\u001b[0m             \u001b[0mout\u001b[0m \u001b[0;34m=\u001b[0m \u001b[0mX\u001b[0m\u001b[0;34m\u001b[0m\u001b[0;34m\u001b[0m\u001b[0m\n\u001b[1;32m    563\u001b[0m         \u001b[0;32melif\u001b[0m \u001b[0mno_val_X\u001b[0m \u001b[0;32mand\u001b[0m \u001b[0;32mnot\u001b[0m \u001b[0mno_val_y\u001b[0m\u001b[0;34m:\u001b[0m\u001b[0;34m\u001b[0m\u001b[0;34m\u001b[0m\u001b[0m\n",
      "\u001b[0;32m/usr/local/lib/python3.9/site-packages/sklearn/utils/validation.py\u001b[0m in \u001b[0;36mcheck_array\u001b[0;34m(array, accept_sparse, accept_large_sparse, dtype, order, copy, force_all_finite, ensure_2d, allow_nd, ensure_min_samples, ensure_min_features, estimator)\u001b[0m\n\u001b[1;32m    736\u001b[0m                     \u001b[0marray\u001b[0m \u001b[0;34m=\u001b[0m \u001b[0marray\u001b[0m\u001b[0;34m.\u001b[0m\u001b[0mastype\u001b[0m\u001b[0;34m(\u001b[0m\u001b[0mdtype\u001b[0m\u001b[0;34m,\u001b[0m \u001b[0mcasting\u001b[0m\u001b[0;34m=\u001b[0m\u001b[0;34m\"unsafe\"\u001b[0m\u001b[0;34m,\u001b[0m \u001b[0mcopy\u001b[0m\u001b[0;34m=\u001b[0m\u001b[0;32mFalse\u001b[0m\u001b[0;34m)\u001b[0m\u001b[0;34m\u001b[0m\u001b[0;34m\u001b[0m\u001b[0m\n\u001b[1;32m    737\u001b[0m                 \u001b[0;32melse\u001b[0m\u001b[0;34m:\u001b[0m\u001b[0;34m\u001b[0m\u001b[0;34m\u001b[0m\u001b[0m\n\u001b[0;32m--> 738\u001b[0;31m                     \u001b[0marray\u001b[0m \u001b[0;34m=\u001b[0m \u001b[0mnp\u001b[0m\u001b[0;34m.\u001b[0m\u001b[0masarray\u001b[0m\u001b[0;34m(\u001b[0m\u001b[0marray\u001b[0m\u001b[0;34m,\u001b[0m \u001b[0morder\u001b[0m\u001b[0;34m=\u001b[0m\u001b[0morder\u001b[0m\u001b[0;34m,\u001b[0m \u001b[0mdtype\u001b[0m\u001b[0;34m=\u001b[0m\u001b[0mdtype\u001b[0m\u001b[0;34m)\u001b[0m\u001b[0;34m\u001b[0m\u001b[0;34m\u001b[0m\u001b[0m\n\u001b[0m\u001b[1;32m    739\u001b[0m             \u001b[0;32mexcept\u001b[0m \u001b[0mComplexWarning\u001b[0m \u001b[0;32mas\u001b[0m \u001b[0mcomplex_warning\u001b[0m\u001b[0;34m:\u001b[0m\u001b[0;34m\u001b[0m\u001b[0;34m\u001b[0m\u001b[0m\n\u001b[1;32m    740\u001b[0m                 raise ValueError(\n",
      "\u001b[0;32m/usr/local/lib/python3.9/site-packages/pandas/core/generic.py\u001b[0m in \u001b[0;36m__array__\u001b[0;34m(self, dtype)\u001b[0m\n\u001b[1;32m   1991\u001b[0m \u001b[0;34m\u001b[0m\u001b[0m\n\u001b[1;32m   1992\u001b[0m     \u001b[0;32mdef\u001b[0m \u001b[0m__array__\u001b[0m\u001b[0;34m(\u001b[0m\u001b[0mself\u001b[0m\u001b[0;34m,\u001b[0m \u001b[0mdtype\u001b[0m\u001b[0;34m:\u001b[0m \u001b[0mNpDtype\u001b[0m \u001b[0;34m|\u001b[0m \u001b[0;32mNone\u001b[0m \u001b[0;34m=\u001b[0m \u001b[0;32mNone\u001b[0m\u001b[0;34m)\u001b[0m \u001b[0;34m->\u001b[0m \u001b[0mnp\u001b[0m\u001b[0;34m.\u001b[0m\u001b[0mndarray\u001b[0m\u001b[0;34m:\u001b[0m\u001b[0;34m\u001b[0m\u001b[0;34m\u001b[0m\u001b[0m\n\u001b[0;32m-> 1993\u001b[0;31m         \u001b[0;32mreturn\u001b[0m \u001b[0mnp\u001b[0m\u001b[0;34m.\u001b[0m\u001b[0masarray\u001b[0m\u001b[0;34m(\u001b[0m\u001b[0mself\u001b[0m\u001b[0;34m.\u001b[0m\u001b[0m_values\u001b[0m\u001b[0;34m,\u001b[0m \u001b[0mdtype\u001b[0m\u001b[0;34m=\u001b[0m\u001b[0mdtype\u001b[0m\u001b[0;34m)\u001b[0m\u001b[0;34m\u001b[0m\u001b[0;34m\u001b[0m\u001b[0m\n\u001b[0m\u001b[1;32m   1994\u001b[0m \u001b[0;34m\u001b[0m\u001b[0m\n\u001b[1;32m   1995\u001b[0m     def __array_wrap__(\n",
      "\u001b[0;31mValueError\u001b[0m: could not convert string to float: 'other'"
     ]
    }
   ],
   "source": [
    "# evaluate_classifier_performance(clf_harga, predicted_harga, y_test_harga)"
   ]
  },
  {
   "cell_type": "markdown",
   "metadata": {
    "id": "xNlUpIw6LS-k"
   },
   "source": [
    "### Iklan Palsu/Fraud"
   ]
  },
  {
   "cell_type": "markdown",
   "metadata": {
    "id": "MyI-4x9qDWam"
   },
   "source": [
    "#### Pre-processing"
   ]
  },
  {
   "cell_type": "code",
   "execution_count": 8,
   "metadata": {},
   "outputs": [
    {
     "data": {
      "text/html": [
       "<div>\n",
       "<style scoped>\n",
       "    .dataframe tbody tr th:only-of-type {\n",
       "        vertical-align: middle;\n",
       "    }\n",
       "\n",
       "    .dataframe tbody tr th {\n",
       "        vertical-align: top;\n",
       "    }\n",
       "\n",
       "    .dataframe thead th {\n",
       "        text-align: right;\n",
       "    }\n",
       "</style>\n",
       "<table border=\"1\" class=\"dataframe\">\n",
       "  <thead>\n",
       "    <tr style=\"text-align: right;\">\n",
       "      <th></th>\n",
       "      <th>id</th>\n",
       "      <th>url</th>\n",
       "      <th>region</th>\n",
       "      <th>region_url</th>\n",
       "      <th>price</th>\n",
       "      <th>year</th>\n",
       "      <th>manufacturer</th>\n",
       "      <th>model</th>\n",
       "      <th>condition</th>\n",
       "      <th>cylinders</th>\n",
       "      <th>...</th>\n",
       "      <th>drive</th>\n",
       "      <th>size</th>\n",
       "      <th>type</th>\n",
       "      <th>paint_color</th>\n",
       "      <th>image_url</th>\n",
       "      <th>description</th>\n",
       "      <th>state</th>\n",
       "      <th>lat</th>\n",
       "      <th>long</th>\n",
       "      <th>posting_date</th>\n",
       "    </tr>\n",
       "  </thead>\n",
       "  <tbody>\n",
       "    <tr>\n",
       "      <th>0</th>\n",
       "      <td>7222695916</td>\n",
       "      <td>https://prescott.craigslist.org/cto/d/prescott...</td>\n",
       "      <td>prescott</td>\n",
       "      <td>https://prescott.craigslist.org</td>\n",
       "      <td>6000</td>\n",
       "      <td>NaN</td>\n",
       "      <td>NaN</td>\n",
       "      <td>NaN</td>\n",
       "      <td>NaN</td>\n",
       "      <td>NaN</td>\n",
       "      <td>...</td>\n",
       "      <td>NaN</td>\n",
       "      <td>NaN</td>\n",
       "      <td>NaN</td>\n",
       "      <td>NaN</td>\n",
       "      <td>NaN</td>\n",
       "      <td>NaN</td>\n",
       "      <td>az</td>\n",
       "      <td>NaN</td>\n",
       "      <td>NaN</td>\n",
       "      <td>NaN</td>\n",
       "    </tr>\n",
       "    <tr>\n",
       "      <th>1</th>\n",
       "      <td>7218891961</td>\n",
       "      <td>https://fayar.craigslist.org/ctd/d/bentonville...</td>\n",
       "      <td>fayetteville</td>\n",
       "      <td>https://fayar.craigslist.org</td>\n",
       "      <td>11900</td>\n",
       "      <td>NaN</td>\n",
       "      <td>NaN</td>\n",
       "      <td>NaN</td>\n",
       "      <td>NaN</td>\n",
       "      <td>NaN</td>\n",
       "      <td>...</td>\n",
       "      <td>NaN</td>\n",
       "      <td>NaN</td>\n",
       "      <td>NaN</td>\n",
       "      <td>NaN</td>\n",
       "      <td>NaN</td>\n",
       "      <td>NaN</td>\n",
       "      <td>ar</td>\n",
       "      <td>NaN</td>\n",
       "      <td>NaN</td>\n",
       "      <td>NaN</td>\n",
       "    </tr>\n",
       "    <tr>\n",
       "      <th>2</th>\n",
       "      <td>7221797935</td>\n",
       "      <td>https://keys.craigslist.org/cto/d/summerland-k...</td>\n",
       "      <td>florida keys</td>\n",
       "      <td>https://keys.craigslist.org</td>\n",
       "      <td>21000</td>\n",
       "      <td>NaN</td>\n",
       "      <td>NaN</td>\n",
       "      <td>NaN</td>\n",
       "      <td>NaN</td>\n",
       "      <td>NaN</td>\n",
       "      <td>...</td>\n",
       "      <td>NaN</td>\n",
       "      <td>NaN</td>\n",
       "      <td>NaN</td>\n",
       "      <td>NaN</td>\n",
       "      <td>NaN</td>\n",
       "      <td>NaN</td>\n",
       "      <td>fl</td>\n",
       "      <td>NaN</td>\n",
       "      <td>NaN</td>\n",
       "      <td>NaN</td>\n",
       "    </tr>\n",
       "    <tr>\n",
       "      <th>3</th>\n",
       "      <td>7222270760</td>\n",
       "      <td>https://worcester.craigslist.org/cto/d/west-br...</td>\n",
       "      <td>worcester / central MA</td>\n",
       "      <td>https://worcester.craigslist.org</td>\n",
       "      <td>1500</td>\n",
       "      <td>NaN</td>\n",
       "      <td>NaN</td>\n",
       "      <td>NaN</td>\n",
       "      <td>NaN</td>\n",
       "      <td>NaN</td>\n",
       "      <td>...</td>\n",
       "      <td>NaN</td>\n",
       "      <td>NaN</td>\n",
       "      <td>NaN</td>\n",
       "      <td>NaN</td>\n",
       "      <td>NaN</td>\n",
       "      <td>NaN</td>\n",
       "      <td>ma</td>\n",
       "      <td>NaN</td>\n",
       "      <td>NaN</td>\n",
       "      <td>NaN</td>\n",
       "    </tr>\n",
       "    <tr>\n",
       "      <th>4</th>\n",
       "      <td>7210384030</td>\n",
       "      <td>https://greensboro.craigslist.org/cto/d/trinit...</td>\n",
       "      <td>greensboro</td>\n",
       "      <td>https://greensboro.craigslist.org</td>\n",
       "      <td>4900</td>\n",
       "      <td>NaN</td>\n",
       "      <td>NaN</td>\n",
       "      <td>NaN</td>\n",
       "      <td>NaN</td>\n",
       "      <td>NaN</td>\n",
       "      <td>...</td>\n",
       "      <td>NaN</td>\n",
       "      <td>NaN</td>\n",
       "      <td>NaN</td>\n",
       "      <td>NaN</td>\n",
       "      <td>NaN</td>\n",
       "      <td>NaN</td>\n",
       "      <td>nc</td>\n",
       "      <td>NaN</td>\n",
       "      <td>NaN</td>\n",
       "      <td>NaN</td>\n",
       "    </tr>\n",
       "  </tbody>\n",
       "</table>\n",
       "<p>5 rows × 25 columns</p>\n",
       "</div>"
      ],
      "text/plain": [
       "           id                                                url  \\\n",
       "0  7222695916  https://prescott.craigslist.org/cto/d/prescott...   \n",
       "1  7218891961  https://fayar.craigslist.org/ctd/d/bentonville...   \n",
       "2  7221797935  https://keys.craigslist.org/cto/d/summerland-k...   \n",
       "3  7222270760  https://worcester.craigslist.org/cto/d/west-br...   \n",
       "4  7210384030  https://greensboro.craigslist.org/cto/d/trinit...   \n",
       "\n",
       "                   region                         region_url  price  year  \\\n",
       "0                prescott    https://prescott.craigslist.org   6000   NaN   \n",
       "1            fayetteville       https://fayar.craigslist.org  11900   NaN   \n",
       "2            florida keys        https://keys.craigslist.org  21000   NaN   \n",
       "3  worcester / central MA   https://worcester.craigslist.org   1500   NaN   \n",
       "4              greensboro  https://greensboro.craigslist.org   4900   NaN   \n",
       "\n",
       "  manufacturer model condition cylinders  ... drive  size type paint_color  \\\n",
       "0          NaN   NaN       NaN       NaN  ...   NaN   NaN  NaN         NaN   \n",
       "1          NaN   NaN       NaN       NaN  ...   NaN   NaN  NaN         NaN   \n",
       "2          NaN   NaN       NaN       NaN  ...   NaN   NaN  NaN         NaN   \n",
       "3          NaN   NaN       NaN       NaN  ...   NaN   NaN  NaN         NaN   \n",
       "4          NaN   NaN       NaN       NaN  ...   NaN   NaN  NaN         NaN   \n",
       "\n",
       "  image_url description state lat long posting_date  \n",
       "0       NaN         NaN    az NaN  NaN          NaN  \n",
       "1       NaN         NaN    ar NaN  NaN          NaN  \n",
       "2       NaN         NaN    fl NaN  NaN          NaN  \n",
       "3       NaN         NaN    ma NaN  NaN          NaN  \n",
       "4       NaN         NaN    nc NaN  NaN          NaN  \n",
       "\n",
       "[5 rows x 25 columns]"
      ]
     },
     "execution_count": 8,
     "metadata": {},
     "output_type": "execute_result"
    }
   ],
   "source": [
    "# Copy Data\n",
    "\n",
    "clean_data = vehicles.copy()\n",
    "clean_data.head()"
   ]
  },
  {
   "cell_type": "code",
   "execution_count": 343,
   "metadata": {},
   "outputs": [],
   "source": [
    "#### Handle Outlier"
   ]
  },
  {
   "cell_type": "code",
   "execution_count": 9,
   "metadata": {},
   "outputs": [],
   "source": [
    "# outlier handler\n",
    "\n",
    "def outlierChecker(data):\n",
    "    q1 = data.quantile(0.25)\n",
    "    q3 = data.quantile(0.75)\n",
    "    iqr = q3 - q1\n",
    "    \n",
    "    data_check = ((data < (q1 - 1.5 * iqr)) | (data > (q3 + 1.5 * iqr)))\n",
    "    out = {\n",
    "        data_check.sum().sort_values(ascending=False)\n",
    "    }\n",
    "    \n",
    "    # outlierTotal = pd.DataFrame([out, (out/len(data))], axis=1, keys=['Total','Persen'])\n",
    "    # print(outlierTotal['Total'] > 0)\n",
    "    print(\"Jumlah data sebelum: \\n\", data.count())\n",
    "    data_no = data[~((data < (q1 - 1.5 * iqr)) |(data > (q3 + 1.5 * iqr))).any(axis=1)]\n",
    "    print(\"Jumlah data setelah: \\n\", data_no.count())\n"
   ]
  },
  {
   "cell_type": "markdown",
   "metadata": {
    "id": "MyI-4x9qDWam"
   },
   "source": [
    "#### Handle Missing Value"
   ]
  },
  {
   "cell_type": "code",
   "execution_count": 10,
   "metadata": {
    "id": "gXRxou8lCeIO"
   },
   "outputs": [],
   "source": [
    "# Missing Values Function\n",
    "def cek_missvalue(df):\n",
    "  col_mv = df.isnull().sum().sort_values(ascending=False)\n",
    "  percent = (col_mv / len(df))*100\n",
    "\n",
    "  missing_data = pd.concat([col_mv, percent], axis=1, keys=[\"Total Missing Value\", \"Percent\"])\n",
    "  print(missing_data[missing_data['Total Missing Value'] > 0])"
   ]
  },
  {
   "cell_type": "code",
   "execution_count": 11,
   "metadata": {
    "colab": {
     "base_uri": "https://localhost:8080/"
    },
    "id": "yvyVxaisElOO",
    "outputId": "08c360d5-4181-4564-9fe8-bdccf6df7813"
   },
   "outputs": [
    {
     "name": "stdout",
     "output_type": "stream",
     "text": [
      "              Total Missing Value    Percent\n",
      "size                       306361  71.767476\n",
      "cylinders                  177678  41.622470\n",
      "condition                  174104  40.785232\n",
      "VIN                        161042  37.725356\n",
      "drive                      130567  30.586347\n",
      "paint_color                130203  30.501078\n",
      "type                        92858  21.752717\n",
      "manufacturer                17646   4.133714\n",
      "title_status                 8242   1.930753\n",
      "lat                          6549   1.534155\n",
      "long                         6549   1.534155\n",
      "model                        5277   1.236179\n",
      "odometer                     4400   1.030735\n",
      "fuel                         3013   0.705819\n",
      "transmission                 2556   0.598763\n",
      "year                         1205   0.282281\n",
      "description                    70   0.016398\n",
      "image_url                      68   0.015930\n",
      "posting_date                   68   0.015930\n"
     ]
    }
   ],
   "source": [
    "cek_missvalue(clean_data)"
   ]
  },
  {
   "cell_type": "code",
   "execution_count": 12,
   "metadata": {},
   "outputs": [
    {
     "data": {
      "text/html": [
       "<div>\n",
       "<style scoped>\n",
       "    .dataframe tbody tr th:only-of-type {\n",
       "        vertical-align: middle;\n",
       "    }\n",
       "\n",
       "    .dataframe tbody tr th {\n",
       "        vertical-align: top;\n",
       "    }\n",
       "\n",
       "    .dataframe thead th {\n",
       "        text-align: right;\n",
       "    }\n",
       "</style>\n",
       "<table border=\"1\" class=\"dataframe\">\n",
       "  <thead>\n",
       "    <tr style=\"text-align: right;\">\n",
       "      <th></th>\n",
       "      <th>id</th>\n",
       "      <th>url</th>\n",
       "      <th>region</th>\n",
       "      <th>region_url</th>\n",
       "      <th>price</th>\n",
       "      <th>year</th>\n",
       "      <th>manufacturer</th>\n",
       "      <th>model</th>\n",
       "      <th>condition</th>\n",
       "      <th>cylinders</th>\n",
       "      <th>...</th>\n",
       "      <th>drive</th>\n",
       "      <th>size</th>\n",
       "      <th>type</th>\n",
       "      <th>paint_color</th>\n",
       "      <th>image_url</th>\n",
       "      <th>description</th>\n",
       "      <th>state</th>\n",
       "      <th>lat</th>\n",
       "      <th>long</th>\n",
       "      <th>posting_date</th>\n",
       "    </tr>\n",
       "  </thead>\n",
       "  <tbody>\n",
       "    <tr>\n",
       "      <th>0</th>\n",
       "      <td>7222695916</td>\n",
       "      <td>https://prescott.craigslist.org/cto/d/prescott...</td>\n",
       "      <td>prescott</td>\n",
       "      <td>https://prescott.craigslist.org</td>\n",
       "      <td>6000</td>\n",
       "      <td>NaN</td>\n",
       "      <td>NaN</td>\n",
       "      <td>NaN</td>\n",
       "      <td>NaN</td>\n",
       "      <td>NaN</td>\n",
       "      <td>...</td>\n",
       "      <td>NaN</td>\n",
       "      <td>NaN</td>\n",
       "      <td>NaN</td>\n",
       "      <td>NaN</td>\n",
       "      <td>NaN</td>\n",
       "      <td>NaN</td>\n",
       "      <td>az</td>\n",
       "      <td>NaN</td>\n",
       "      <td>NaN</td>\n",
       "      <td>NaN</td>\n",
       "    </tr>\n",
       "    <tr>\n",
       "      <th>1</th>\n",
       "      <td>7218891961</td>\n",
       "      <td>https://fayar.craigslist.org/ctd/d/bentonville...</td>\n",
       "      <td>fayetteville</td>\n",
       "      <td>https://fayar.craigslist.org</td>\n",
       "      <td>11900</td>\n",
       "      <td>NaN</td>\n",
       "      <td>NaN</td>\n",
       "      <td>NaN</td>\n",
       "      <td>NaN</td>\n",
       "      <td>NaN</td>\n",
       "      <td>...</td>\n",
       "      <td>NaN</td>\n",
       "      <td>NaN</td>\n",
       "      <td>NaN</td>\n",
       "      <td>NaN</td>\n",
       "      <td>NaN</td>\n",
       "      <td>NaN</td>\n",
       "      <td>ar</td>\n",
       "      <td>NaN</td>\n",
       "      <td>NaN</td>\n",
       "      <td>NaN</td>\n",
       "    </tr>\n",
       "    <tr>\n",
       "      <th>2</th>\n",
       "      <td>7221797935</td>\n",
       "      <td>https://keys.craigslist.org/cto/d/summerland-k...</td>\n",
       "      <td>florida keys</td>\n",
       "      <td>https://keys.craigslist.org</td>\n",
       "      <td>21000</td>\n",
       "      <td>NaN</td>\n",
       "      <td>NaN</td>\n",
       "      <td>NaN</td>\n",
       "      <td>NaN</td>\n",
       "      <td>NaN</td>\n",
       "      <td>...</td>\n",
       "      <td>NaN</td>\n",
       "      <td>NaN</td>\n",
       "      <td>NaN</td>\n",
       "      <td>NaN</td>\n",
       "      <td>NaN</td>\n",
       "      <td>NaN</td>\n",
       "      <td>fl</td>\n",
       "      <td>NaN</td>\n",
       "      <td>NaN</td>\n",
       "      <td>NaN</td>\n",
       "    </tr>\n",
       "    <tr>\n",
       "      <th>3</th>\n",
       "      <td>7222270760</td>\n",
       "      <td>https://worcester.craigslist.org/cto/d/west-br...</td>\n",
       "      <td>worcester / central MA</td>\n",
       "      <td>https://worcester.craigslist.org</td>\n",
       "      <td>1500</td>\n",
       "      <td>NaN</td>\n",
       "      <td>NaN</td>\n",
       "      <td>NaN</td>\n",
       "      <td>NaN</td>\n",
       "      <td>NaN</td>\n",
       "      <td>...</td>\n",
       "      <td>NaN</td>\n",
       "      <td>NaN</td>\n",
       "      <td>NaN</td>\n",
       "      <td>NaN</td>\n",
       "      <td>NaN</td>\n",
       "      <td>NaN</td>\n",
       "      <td>ma</td>\n",
       "      <td>NaN</td>\n",
       "      <td>NaN</td>\n",
       "      <td>NaN</td>\n",
       "    </tr>\n",
       "    <tr>\n",
       "      <th>4</th>\n",
       "      <td>7210384030</td>\n",
       "      <td>https://greensboro.craigslist.org/cto/d/trinit...</td>\n",
       "      <td>greensboro</td>\n",
       "      <td>https://greensboro.craigslist.org</td>\n",
       "      <td>4900</td>\n",
       "      <td>NaN</td>\n",
       "      <td>NaN</td>\n",
       "      <td>NaN</td>\n",
       "      <td>NaN</td>\n",
       "      <td>NaN</td>\n",
       "      <td>...</td>\n",
       "      <td>NaN</td>\n",
       "      <td>NaN</td>\n",
       "      <td>NaN</td>\n",
       "      <td>NaN</td>\n",
       "      <td>NaN</td>\n",
       "      <td>NaN</td>\n",
       "      <td>nc</td>\n",
       "      <td>NaN</td>\n",
       "      <td>NaN</td>\n",
       "      <td>NaN</td>\n",
       "    </tr>\n",
       "  </tbody>\n",
       "</table>\n",
       "<p>5 rows × 25 columns</p>\n",
       "</div>"
      ],
      "text/plain": [
       "           id                                                url  \\\n",
       "0  7222695916  https://prescott.craigslist.org/cto/d/prescott...   \n",
       "1  7218891961  https://fayar.craigslist.org/ctd/d/bentonville...   \n",
       "2  7221797935  https://keys.craigslist.org/cto/d/summerland-k...   \n",
       "3  7222270760  https://worcester.craigslist.org/cto/d/west-br...   \n",
       "4  7210384030  https://greensboro.craigslist.org/cto/d/trinit...   \n",
       "\n",
       "                   region                         region_url  price  year  \\\n",
       "0                prescott    https://prescott.craigslist.org   6000   NaN   \n",
       "1            fayetteville       https://fayar.craigslist.org  11900   NaN   \n",
       "2            florida keys        https://keys.craigslist.org  21000   NaN   \n",
       "3  worcester / central MA   https://worcester.craigslist.org   1500   NaN   \n",
       "4              greensboro  https://greensboro.craigslist.org   4900   NaN   \n",
       "\n",
       "  manufacturer model condition cylinders  ... drive  size type paint_color  \\\n",
       "0          NaN   NaN       NaN       NaN  ...   NaN   NaN  NaN         NaN   \n",
       "1          NaN   NaN       NaN       NaN  ...   NaN   NaN  NaN         NaN   \n",
       "2          NaN   NaN       NaN       NaN  ...   NaN   NaN  NaN         NaN   \n",
       "3          NaN   NaN       NaN       NaN  ...   NaN   NaN  NaN         NaN   \n",
       "4          NaN   NaN       NaN       NaN  ...   NaN   NaN  NaN         NaN   \n",
       "\n",
       "  image_url description state lat long posting_date  \n",
       "0       NaN         NaN    az NaN  NaN          NaN  \n",
       "1       NaN         NaN    ar NaN  NaN          NaN  \n",
       "2       NaN         NaN    fl NaN  NaN          NaN  \n",
       "3       NaN         NaN    ma NaN  NaN          NaN  \n",
       "4       NaN         NaN    nc NaN  NaN          NaN  \n",
       "\n",
       "[5 rows x 25 columns]"
      ]
     },
     "execution_count": 12,
     "metadata": {},
     "output_type": "execute_result"
    }
   ],
   "source": [
    "clean_data.head()"
   ]
  },
  {
   "cell_type": "code",
   "execution_count": 13,
   "metadata": {
    "id": "T8DUUQY_lvJ2"
   },
   "outputs": [],
   "source": [
    "clean_data.drop(['size'], axis=1, inplace=True)\n",
    "clean_data.drop(['cylinders'], axis=1, inplace=True)\n",
    "clean_data.drop(['paint_color'], axis=1, inplace=True)\n",
    "clean_data.drop(['drive'], axis=1, inplace=True)\n",
    "clean_data.drop(['VIN'], axis=1, inplace=True)\n",
    "clean_data.drop(['lat'], axis=1, inplace=True)\n",
    "clean_data.drop(['long'], axis=1, inplace=True)\n",
    "clean_data.drop(['description'], axis=1, inplace=True)\n",
    "clean_data.drop(['posting_date'], axis=1, inplace=True)\n",
    "clean_data.drop(['image_url'], axis=1, inplace=True)\n",
    "clean_data.drop(['url'], axis=1, inplace=True)\n",
    "clean_data.drop(['id'], axis=1, inplace=True)\n",
    "clean_data.drop(['region_url'], axis=1, inplace=True)\n",
    "clean_data.drop(['model'], axis=1, inplace=True)\n",
    "# clean_data.drop(['year'], axis=1, inplace=True)\n",
    "# clean_data.drop(['region'], axis=1, inplace=True)\n",
    "# clean_data.drop(['condition'], axis=1, inplace=True)\n",
    "\n",
    "# clean_data.drop(['fuel'], axis=1, inplace=True)\n",
    "# clean_data.drop(['odometer'], axis=1, inplace=True)\n",
    "# clean_data.drop(['title_status'], axis=1, inplace=True)\n",
    "# clean_data.drop(['transmission'], axis=1, inplace=True)\n",
    "# clean_data.drop(['manufacturer'], axis=1, inplace=True)\n",
    "# clean_data.drop(['state'], axis=1, inplace=True)"
   ]
  },
  {
   "cell_type": "code",
   "execution_count": 14,
   "metadata": {
    "colab": {
     "base_uri": "https://localhost:8080/"
    },
    "id": "yBjLG8wL8Iff",
    "outputId": "bb4c36b7-d841-4bee-e0ff-6fb14cdfc4fe"
   },
   "outputs": [
    {
     "name": "stdout",
     "output_type": "stream",
     "text": [
      "              Total Missing Value    Percent\n",
      "condition                  174104  40.785232\n",
      "type                        92858  21.752717\n",
      "manufacturer                17646   4.133714\n",
      "title_status                 8242   1.930753\n",
      "odometer                     4400   1.030735\n",
      "fuel                         3013   0.705819\n",
      "transmission                 2556   0.598763\n",
      "year                         1205   0.282281\n"
     ]
    }
   ],
   "source": [
    "cek_missvalue(clean_data)"
   ]
  },
  {
   "cell_type": "code",
   "execution_count": 307,
   "metadata": {},
   "outputs": [],
   "source": [
    "# clean_data['odometer'].fillna(clean_data['odometer'].median(), inplace=True)"
   ]
  },
  {
   "cell_type": "code",
   "execution_count": 308,
   "metadata": {
    "id": "Fdjupilsh0qh"
   },
   "outputs": [],
   "source": [
    "# clean_data['condition'].fillna(\"undefined\", inplace=True)\n",
    "# clean_data['type'].fillna(\"undefined\", inplace=True)"
   ]
  },
  {
   "cell_type": "code",
   "execution_count": 12,
   "metadata": {
    "id": "Q2HzYaXx9C7S"
   },
   "outputs": [],
   "source": [
    "# vehicles['long'].fillna(vehicles['long'].median(), inplace=True)\n",
    "# vehicles['lat'].fillna(vehicles['lat'].median(), inplace=True)\n",
    "# vehicles['odometer'].fillna(vehicles['odometer'].median(), inplace=True)"
   ]
  },
  {
   "cell_type": "code",
   "execution_count": 15,
   "metadata": {
    "id": "p9ljEpwxJrK7"
   },
   "outputs": [],
   "source": [
    "clean_data.dropna(inplace=True)"
   ]
  },
  {
   "cell_type": "code",
   "execution_count": 16,
   "metadata": {
    "colab": {
     "base_uri": "https://localhost:8080/"
    },
    "id": "sNwV_W71JySc",
    "outputId": "422074bf-287f-4dad-ea5a-cd0d90f6c816"
   },
   "outputs": [
    {
     "name": "stdout",
     "output_type": "stream",
     "text": [
      "Dimensi data:  (204464, 11)\n"
     ]
    }
   ],
   "source": [
    "# Membaca kolom-kolom pada DataFrame\n",
    "print(\"Dimensi data: \", clean_data.shape)"
   ]
  },
  {
   "cell_type": "code",
   "execution_count": 17,
   "metadata": {
    "colab": {
     "base_uri": "https://localhost:8080/"
    },
    "id": "ewcNuRPHRAKZ",
    "outputId": "d04643a5-0909-4b00-e293-594f37f29f44"
   },
   "outputs": [
    {
     "name": "stdout",
     "output_type": "stream",
     "text": [
      "Empty DataFrame\n",
      "Columns: [Total Missing Value, Percent]\n",
      "Index: []\n"
     ]
    }
   ],
   "source": [
    "cek_missvalue(clean_data)"
   ]
  },
  {
   "cell_type": "code",
   "execution_count": 18,
   "metadata": {
    "colab": {
     "base_uri": "https://localhost:8080/",
     "height": 409
    },
    "id": "FSMY-driRTBc",
    "outputId": "fb2c9398-4249-4cd8-b085-3ff732c03a44"
   },
   "outputs": [
    {
     "data": {
      "text/html": [
       "<div>\n",
       "<style scoped>\n",
       "    .dataframe tbody tr th:only-of-type {\n",
       "        vertical-align: middle;\n",
       "    }\n",
       "\n",
       "    .dataframe tbody tr th {\n",
       "        vertical-align: top;\n",
       "    }\n",
       "\n",
       "    .dataframe thead th {\n",
       "        text-align: right;\n",
       "    }\n",
       "</style>\n",
       "<table border=\"1\" class=\"dataframe\">\n",
       "  <thead>\n",
       "    <tr style=\"text-align: right;\">\n",
       "      <th></th>\n",
       "      <th>region</th>\n",
       "      <th>price</th>\n",
       "      <th>year</th>\n",
       "      <th>manufacturer</th>\n",
       "      <th>condition</th>\n",
       "      <th>fuel</th>\n",
       "      <th>odometer</th>\n",
       "      <th>title_status</th>\n",
       "      <th>transmission</th>\n",
       "      <th>type</th>\n",
       "      <th>state</th>\n",
       "    </tr>\n",
       "  </thead>\n",
       "  <tbody>\n",
       "    <tr>\n",
       "      <th>27</th>\n",
       "      <td>auburn</td>\n",
       "      <td>33590</td>\n",
       "      <td>2014.0</td>\n",
       "      <td>gmc</td>\n",
       "      <td>good</td>\n",
       "      <td>gas</td>\n",
       "      <td>57923.0</td>\n",
       "      <td>clean</td>\n",
       "      <td>other</td>\n",
       "      <td>pickup</td>\n",
       "      <td>al</td>\n",
       "    </tr>\n",
       "    <tr>\n",
       "      <th>28</th>\n",
       "      <td>auburn</td>\n",
       "      <td>22590</td>\n",
       "      <td>2010.0</td>\n",
       "      <td>chevrolet</td>\n",
       "      <td>good</td>\n",
       "      <td>gas</td>\n",
       "      <td>71229.0</td>\n",
       "      <td>clean</td>\n",
       "      <td>other</td>\n",
       "      <td>pickup</td>\n",
       "      <td>al</td>\n",
       "    </tr>\n",
       "    <tr>\n",
       "      <th>29</th>\n",
       "      <td>auburn</td>\n",
       "      <td>39590</td>\n",
       "      <td>2020.0</td>\n",
       "      <td>chevrolet</td>\n",
       "      <td>good</td>\n",
       "      <td>gas</td>\n",
       "      <td>19160.0</td>\n",
       "      <td>clean</td>\n",
       "      <td>other</td>\n",
       "      <td>pickup</td>\n",
       "      <td>al</td>\n",
       "    </tr>\n",
       "    <tr>\n",
       "      <th>30</th>\n",
       "      <td>auburn</td>\n",
       "      <td>30990</td>\n",
       "      <td>2017.0</td>\n",
       "      <td>toyota</td>\n",
       "      <td>good</td>\n",
       "      <td>gas</td>\n",
       "      <td>41124.0</td>\n",
       "      <td>clean</td>\n",
       "      <td>other</td>\n",
       "      <td>pickup</td>\n",
       "      <td>al</td>\n",
       "    </tr>\n",
       "    <tr>\n",
       "      <th>31</th>\n",
       "      <td>auburn</td>\n",
       "      <td>15000</td>\n",
       "      <td>2013.0</td>\n",
       "      <td>ford</td>\n",
       "      <td>excellent</td>\n",
       "      <td>gas</td>\n",
       "      <td>128000.0</td>\n",
       "      <td>clean</td>\n",
       "      <td>automatic</td>\n",
       "      <td>truck</td>\n",
       "      <td>al</td>\n",
       "    </tr>\n",
       "  </tbody>\n",
       "</table>\n",
       "</div>"
      ],
      "text/plain": [
       "    region  price    year manufacturer  condition fuel  odometer title_status  \\\n",
       "27  auburn  33590  2014.0          gmc       good  gas   57923.0        clean   \n",
       "28  auburn  22590  2010.0    chevrolet       good  gas   71229.0        clean   \n",
       "29  auburn  39590  2020.0    chevrolet       good  gas   19160.0        clean   \n",
       "30  auburn  30990  2017.0       toyota       good  gas   41124.0        clean   \n",
       "31  auburn  15000  2013.0         ford  excellent  gas  128000.0        clean   \n",
       "\n",
       "   transmission    type state  \n",
       "27        other  pickup    al  \n",
       "28        other  pickup    al  \n",
       "29        other  pickup    al  \n",
       "30        other  pickup    al  \n",
       "31    automatic   truck    al  "
      ]
     },
     "execution_count": 18,
     "metadata": {},
     "output_type": "execute_result"
    }
   ],
   "source": [
    "clean_data.head()"
   ]
  },
  {
   "cell_type": "code",
   "execution_count": null,
   "metadata": {
    "colab": {
     "base_uri": "https://localhost:8080/",
     "height": 729
    },
    "id": "c4yfsLe_KGd1",
    "outputId": "1c07c4cb-429b-440f-a75e-47c5eceaadd3"
   },
   "outputs": [
    {
     "data": {
      "text/plain": [
       "array([[<matplotlib.axes._subplots.AxesSubplot object at 0x7f9f5cdd0ed0>,\n",
       "        <matplotlib.axes._subplots.AxesSubplot object at 0x7f9f5cd9f350>],\n",
       "       [<matplotlib.axes._subplots.AxesSubplot object at 0x7f9f5cd54950>,\n",
       "        <matplotlib.axes._subplots.AxesSubplot object at 0x7f9f5cd0af50>],\n",
       "       [<matplotlib.axes._subplots.AxesSubplot object at 0x7f9f5cccd590>,\n",
       "        <matplotlib.axes._subplots.AxesSubplot object at 0x7f9f5cc82b90>]],\n",
       "      dtype=object)"
      ]
     },
     "execution_count": 15,
     "metadata": {},
     "output_type": "execute_result"
    },
    {
     "data": {
      "image/png": "[encoded data removed]",
      "text/plain": [
       "<Figure size 1440x720 with 6 Axes>"
      ]
     },
     "metadata": {
      "needs_background": "light"
     },
     "output_type": "display_data"
    }
   ],
   "source": [
    "vehicles.hist(figsize=(20,10))"
   ]
  },
  {
   "cell_type": "code",
   "execution_count": 8,
   "metadata": {
    "colab": {
     "base_uri": "https://localhost:8080/",
     "height": 363
    },
    "id": "9wMl97t7BhtK",
    "outputId": "90da746a-ffb8-43d5-eef2-9af9e2451da2"
   },
   "outputs": [
    {
     "data": {
      "text/html": [
       "<div>\n",
       "<style scoped>\n",
       "    .dataframe tbody tr th:only-of-type {\n",
       "        vertical-align: middle;\n",
       "    }\n",
       "\n",
       "    .dataframe tbody tr th {\n",
       "        vertical-align: top;\n",
       "    }\n",
       "\n",
       "    .dataframe thead th {\n",
       "        text-align: right;\n",
       "    }\n",
       "</style>\n",
       "<table border=\"1\" class=\"dataframe\">\n",
       "  <thead>\n",
       "    <tr style=\"text-align: right;\">\n",
       "      <th></th>\n",
       "      <th>region</th>\n",
       "      <th>price</th>\n",
       "      <th>year</th>\n",
       "      <th>manufacturer</th>\n",
       "      <th>condition</th>\n",
       "      <th>fuel</th>\n",
       "      <th>odometer</th>\n",
       "      <th>title_status</th>\n",
       "      <th>transmission</th>\n",
       "      <th>type</th>\n",
       "      <th>state</th>\n",
       "    </tr>\n",
       "  </thead>\n",
       "  <tbody>\n",
       "    <tr>\n",
       "      <th>27</th>\n",
       "      <td>auburn</td>\n",
       "      <td>33590</td>\n",
       "      <td>2014.0</td>\n",
       "      <td>gmc</td>\n",
       "      <td>good</td>\n",
       "      <td>gas</td>\n",
       "      <td>57923.0</td>\n",
       "      <td>clean</td>\n",
       "      <td>other</td>\n",
       "      <td>pickup</td>\n",
       "      <td>al</td>\n",
       "    </tr>\n",
       "    <tr>\n",
       "      <th>28</th>\n",
       "      <td>auburn</td>\n",
       "      <td>22590</td>\n",
       "      <td>2010.0</td>\n",
       "      <td>chevrolet</td>\n",
       "      <td>good</td>\n",
       "      <td>gas</td>\n",
       "      <td>71229.0</td>\n",
       "      <td>clean</td>\n",
       "      <td>other</td>\n",
       "      <td>pickup</td>\n",
       "      <td>al</td>\n",
       "    </tr>\n",
       "    <tr>\n",
       "      <th>29</th>\n",
       "      <td>auburn</td>\n",
       "      <td>39590</td>\n",
       "      <td>2020.0</td>\n",
       "      <td>chevrolet</td>\n",
       "      <td>good</td>\n",
       "      <td>gas</td>\n",
       "      <td>19160.0</td>\n",
       "      <td>clean</td>\n",
       "      <td>other</td>\n",
       "      <td>pickup</td>\n",
       "      <td>al</td>\n",
       "    </tr>\n",
       "    <tr>\n",
       "      <th>30</th>\n",
       "      <td>auburn</td>\n",
       "      <td>30990</td>\n",
       "      <td>2017.0</td>\n",
       "      <td>toyota</td>\n",
       "      <td>good</td>\n",
       "      <td>gas</td>\n",
       "      <td>41124.0</td>\n",
       "      <td>clean</td>\n",
       "      <td>other</td>\n",
       "      <td>pickup</td>\n",
       "      <td>al</td>\n",
       "    </tr>\n",
       "    <tr>\n",
       "      <th>31</th>\n",
       "      <td>auburn</td>\n",
       "      <td>15000</td>\n",
       "      <td>2013.0</td>\n",
       "      <td>ford</td>\n",
       "      <td>excellent</td>\n",
       "      <td>gas</td>\n",
       "      <td>128000.0</td>\n",
       "      <td>clean</td>\n",
       "      <td>automatic</td>\n",
       "      <td>truck</td>\n",
       "      <td>al</td>\n",
       "    </tr>\n",
       "    <tr>\n",
       "      <th>32</th>\n",
       "      <td>auburn</td>\n",
       "      <td>27990</td>\n",
       "      <td>2012.0</td>\n",
       "      <td>gmc</td>\n",
       "      <td>good</td>\n",
       "      <td>gas</td>\n",
       "      <td>68696.0</td>\n",
       "      <td>clean</td>\n",
       "      <td>other</td>\n",
       "      <td>pickup</td>\n",
       "      <td>al</td>\n",
       "    </tr>\n",
       "    <tr>\n",
       "      <th>33</th>\n",
       "      <td>auburn</td>\n",
       "      <td>34590</td>\n",
       "      <td>2016.0</td>\n",
       "      <td>chevrolet</td>\n",
       "      <td>good</td>\n",
       "      <td>gas</td>\n",
       "      <td>29499.0</td>\n",
       "      <td>clean</td>\n",
       "      <td>other</td>\n",
       "      <td>pickup</td>\n",
       "      <td>al</td>\n",
       "    </tr>\n",
       "    <tr>\n",
       "      <th>34</th>\n",
       "      <td>auburn</td>\n",
       "      <td>35000</td>\n",
       "      <td>2019.0</td>\n",
       "      <td>toyota</td>\n",
       "      <td>excellent</td>\n",
       "      <td>gas</td>\n",
       "      <td>43000.0</td>\n",
       "      <td>clean</td>\n",
       "      <td>automatic</td>\n",
       "      <td>truck</td>\n",
       "      <td>al</td>\n",
       "    </tr>\n",
       "    <tr>\n",
       "      <th>35</th>\n",
       "      <td>auburn</td>\n",
       "      <td>29990</td>\n",
       "      <td>2016.0</td>\n",
       "      <td>chevrolet</td>\n",
       "      <td>good</td>\n",
       "      <td>gas</td>\n",
       "      <td>17302.0</td>\n",
       "      <td>clean</td>\n",
       "      <td>other</td>\n",
       "      <td>pickup</td>\n",
       "      <td>al</td>\n",
       "    </tr>\n",
       "    <tr>\n",
       "      <th>36</th>\n",
       "      <td>auburn</td>\n",
       "      <td>38590</td>\n",
       "      <td>2011.0</td>\n",
       "      <td>chevrolet</td>\n",
       "      <td>good</td>\n",
       "      <td>gas</td>\n",
       "      <td>30237.0</td>\n",
       "      <td>clean</td>\n",
       "      <td>other</td>\n",
       "      <td>other</td>\n",
       "      <td>al</td>\n",
       "    </tr>\n",
       "  </tbody>\n",
       "</table>\n",
       "</div>"
      ],
      "text/plain": [
       "    region  price    year manufacturer  condition fuel  odometer title_status  \\\n",
       "27  auburn  33590  2014.0          gmc       good  gas   57923.0        clean   \n",
       "28  auburn  22590  2010.0    chevrolet       good  gas   71229.0        clean   \n",
       "29  auburn  39590  2020.0    chevrolet       good  gas   19160.0        clean   \n",
       "30  auburn  30990  2017.0       toyota       good  gas   41124.0        clean   \n",
       "31  auburn  15000  2013.0         ford  excellent  gas  128000.0        clean   \n",
       "32  auburn  27990  2012.0          gmc       good  gas   68696.0        clean   \n",
       "33  auburn  34590  2016.0    chevrolet       good  gas   29499.0        clean   \n",
       "34  auburn  35000  2019.0       toyota  excellent  gas   43000.0        clean   \n",
       "35  auburn  29990  2016.0    chevrolet       good  gas   17302.0        clean   \n",
       "36  auburn  38590  2011.0    chevrolet       good  gas   30237.0        clean   \n",
       "\n",
       "   transmission    type state  \n",
       "27        other  pickup    al  \n",
       "28        other  pickup    al  \n",
       "29        other  pickup    al  \n",
       "30        other  pickup    al  \n",
       "31    automatic   truck    al  \n",
       "32        other  pickup    al  \n",
       "33        other  pickup    al  \n",
       "34    automatic   truck    al  \n",
       "35        other  pickup    al  \n",
       "36        other   other    al  "
      ]
     },
     "execution_count": 8,
     "metadata": {},
     "output_type": "execute_result"
    }
   ],
   "source": [
    "vehicles.head(10)"
   ]
  },
  {
   "cell_type": "code",
   "execution_count": 19,
   "metadata": {
    "id": "OSXjW92BCza9"
   },
   "outputs": [],
   "source": [
    "# Preprocessing menggunakan LabelEncoder\n",
    "from sklearn.preprocessing import LabelEncoder\n",
    "\n",
    "label = LabelEncoder()\n",
    "clean_data['region'] = label.fit_transform(clean_data['region'])\n",
    "clean_data['manufacturer'] = label.fit_transform(clean_data['manufacturer'])\n",
    "clean_data['condition'] = label.fit_transform(clean_data['condition'])\n",
    "clean_data['fuel'] = label.fit_transform(clean_data['fuel'])\n",
    "clean_data['title_status'] = label.fit_transform(clean_data['title_status'])\n",
    "clean_data['transmission'] = label.fit_transform(clean_data['transmission'])\n",
    "clean_data['type'] = label.fit_transform(clean_data['type'])\n",
    "clean_data['state'] = label.fit_transform(clean_data['state'])\n",
    "# clean_data['cylinders'] = label.fit_transform(clean_data['cylinders'])\n",
    "# clean_data['model'] = label.fit_transform(clean_data['model'])\n",
    "# clean_data['drive'] = label.fit_transform(clean_data['drive'])\n",
    "# clean_data['paint_color'] = label.fit_transform(clean_data['paint_color'])"
   ]
  },
  {
   "cell_type": "code",
   "execution_count": 444,
   "metadata": {
    "colab": {
     "base_uri": "https://localhost:8080/"
    },
    "id": "u7wNdf_DESs1",
    "outputId": "ed509c12-410c-4d36-c837-22f7472684b2"
   },
   "outputs": [
    {
     "name": "stdout",
     "output_type": "stream",
     "text": [
      "<class 'pandas.core.frame.DataFrame'>\n",
      "RangeIndex: 426880 entries, 0 to 426879\n",
      "Data columns (total 25 columns):\n",
      " #   Column        Non-Null Count   Dtype  \n",
      "---  ------        --------------   -----  \n",
      " 0   id            426880 non-null  int64  \n",
      " 1   url           426880 non-null  object \n",
      " 2   region        426880 non-null  object \n",
      " 3   region_url    426880 non-null  object \n",
      " 4   price         426880 non-null  int64  \n",
      " 5   year          425675 non-null  float64\n",
      " 6   manufacturer  409234 non-null  object \n",
      " 7   model         421603 non-null  object \n",
      " 8   condition     252776 non-null  object \n",
      " 9   cylinders     249202 non-null  object \n",
      " 10  fuel          423867 non-null  object \n",
      " 11  odometer      422480 non-null  float64\n",
      " 12  title_status  418638 non-null  object \n",
      " 13  transmission  424324 non-null  object \n",
      " 14  VIN           265838 non-null  object \n",
      " 15  drive         296313 non-null  object \n",
      " 16  size          120519 non-null  object \n",
      " 17  type          334022 non-null  object \n",
      " 18  paint_color   296677 non-null  object \n",
      " 19  image_url     426812 non-null  object \n",
      " 20  description   426810 non-null  object \n",
      " 21  state         426880 non-null  object \n",
      " 22  lat           420331 non-null  float64\n",
      " 23  long          420331 non-null  float64\n",
      " 24  posting_date  426812 non-null  object \n",
      "dtypes: float64(4), int64(2), object(19)\n",
      "memory usage: 81.4+ MB\n"
     ]
    }
   ],
   "source": [
    "vehicles.info()"
   ]
  },
  {
   "cell_type": "code",
   "execution_count": 541,
   "metadata": {},
   "outputs": [],
   "source": [
    "# num = ['year','odometer','price']\n",
    "# num = ['price']\n",
    "# outlierChecker(clean_data[num])"
   ]
  },
  {
   "cell_type": "code",
   "execution_count": 496,
   "metadata": {},
   "outputs": [
    {
     "name": "stdout",
     "output_type": "stream",
     "text": [
      "-23977.5 58530.5\n",
      "[]\n"
     ]
    }
   ],
   "source": [
    "# Outlier pada price\n",
    "# q1_price = clean_data['price'].quantile(0.25)\n",
    "# q3_price = clean_data['price'].quantile(0.75)\n",
    "# iqr = q3_price - q1_price\n",
    "\n",
    "# lower_price = q1_price - (1.5*iqr)\n",
    "# upper_price = q3_price + (1.5*iqr)\n",
    "# print(lower_price, upper_price)\n",
    "\n",
    "# clean_data = clean_data[(clean_data['price'] <= upper_price) & (clean_data['price'] >= lower_price)]\n",
    "# outlierChecker(clean_data[num])"
   ]
  },
  {
   "cell_type": "code",
   "execution_count": 10,
   "metadata": {},
   "outputs": [
    {
     "data": {
      "text/plain": [
       "array([0.00000000e+00, 7.47385742e+08, 1.49477148e+09, 2.24215723e+09,\n",
       "       2.98954297e+09, 3.73692871e+09])"
      ]
     },
     "execution_count": 10,
     "metadata": {},
     "output_type": "execute_result"
    }
   ],
   "source": [
    "# bins = np.linspace(vehicles['price'].min(), vehicles['price'].max(), 6)\n",
    "# ca = [1, 2, 3, 4, 5]\n",
    "# vehicles['price_bin'] = pd.cut(vehicles['price'], bins, labels=ca, include_lowest=True)\n",
    "# bins"
   ]
  },
  {
   "cell_type": "code",
   "execution_count": null,
   "metadata": {},
   "outputs": [],
   "source": [
    "# vehicles['price_bin']"
   ]
  },
  {
   "cell_type": "code",
   "execution_count": 20,
   "metadata": {},
   "outputs": [
    {
     "name": "stdout",
     "output_type": "stream",
     "text": [
      "27        (27990.0, 3736928711.0]\n",
      "28             (15895.0, 27990.0]\n",
      "29        (27990.0, 3736928711.0]\n",
      "30        (27990.0, 3736928711.0]\n",
      "31              (6995.0, 15895.0]\n",
      "                   ...           \n",
      "426875         (15895.0, 27990.0]\n",
      "426876    (27990.0, 3736928711.0]\n",
      "426877    (27990.0, 3736928711.0]\n",
      "426878    (27990.0, 3736928711.0]\n",
      "426879    (27990.0, 3736928711.0]\n",
      "Name: price, Length: 204464, dtype: category\n",
      "Categories (4, interval[float64, right]): [(-0.001, 6995.0] < (6995.0, 15895.0] < (15895.0, 27990.0] < (27990.0, 3736928711.0]]\n"
     ]
    }
   ],
   "source": [
    "# bins = np.linspace(clean_data['price'].min(), clean_data['price'].max(), 6)\n",
    "bins = pd.qcut(clean_data['price'], q=4)\n",
    "clean_data['price_bin'] = bins.cat.codes\n",
    "clean_data.head()\n",
    "print(bins)\n",
    "# ca = [1,2,3]\n",
    "# vehicles['price_bin'] = pd.qcut(d['math score'], q=[0, 0.4, 0.5, 0.65, 0.80, 1], labels=labels_5)\n",
    "# clean_data['price_bin'] = (pd.cut(clean_data[\"price\"], bins = bins).cat.codes\n",
    "# clean_data['price_bin'] = pd.cut(clean_data['price'], bins, labels=ca, include_lowest=True)\n",
    "# print (bins)"
   ]
  },
  {
   "cell_type": "code",
   "execution_count": 21,
   "metadata": {},
   "outputs": [
    {
     "data": {
      "text/plain": [
       "count    2.044640e+05\n",
       "mean     4.483438e+04\n",
       "std      8.640278e+06\n",
       "min      0.000000e+00\n",
       "25%      6.995000e+03\n",
       "50%      1.589500e+04\n",
       "75%      2.799000e+04\n",
       "max      3.736929e+09\n",
       "Name: price, dtype: float64"
      ]
     },
     "execution_count": 21,
     "metadata": {},
     "output_type": "execute_result"
    }
   ],
   "source": [
    "clean_data['price'].describe()"
   ]
  },
  {
   "cell_type": "code",
   "execution_count": 22,
   "metadata": {},
   "outputs": [
    {
     "data": {
      "text/html": [
       "<div>\n",
       "<style scoped>\n",
       "    .dataframe tbody tr th:only-of-type {\n",
       "        vertical-align: middle;\n",
       "    }\n",
       "\n",
       "    .dataframe tbody tr th {\n",
       "        vertical-align: top;\n",
       "    }\n",
       "\n",
       "    .dataframe thead th {\n",
       "        text-align: right;\n",
       "    }\n",
       "</style>\n",
       "<table border=\"1\" class=\"dataframe\">\n",
       "  <thead>\n",
       "    <tr style=\"text-align: right;\">\n",
       "      <th></th>\n",
       "      <th>region</th>\n",
       "      <th>price</th>\n",
       "      <th>year</th>\n",
       "      <th>manufacturer</th>\n",
       "      <th>condition</th>\n",
       "      <th>fuel</th>\n",
       "      <th>odometer</th>\n",
       "      <th>title_status</th>\n",
       "      <th>transmission</th>\n",
       "      <th>type</th>\n",
       "      <th>state</th>\n",
       "      <th>price_bin</th>\n",
       "    </tr>\n",
       "  </thead>\n",
       "  <tbody>\n",
       "    <tr>\n",
       "      <th>27</th>\n",
       "      <td>16</td>\n",
       "      <td>33590</td>\n",
       "      <td>2014.0</td>\n",
       "      <td>14</td>\n",
       "      <td>2</td>\n",
       "      <td>2</td>\n",
       "      <td>57923.0</td>\n",
       "      <td>0</td>\n",
       "      <td>2</td>\n",
       "      <td>8</td>\n",
       "      <td>1</td>\n",
       "      <td>3</td>\n",
       "    </tr>\n",
       "    <tr>\n",
       "      <th>28</th>\n",
       "      <td>16</td>\n",
       "      <td>22590</td>\n",
       "      <td>2010.0</td>\n",
       "      <td>7</td>\n",
       "      <td>2</td>\n",
       "      <td>2</td>\n",
       "      <td>71229.0</td>\n",
       "      <td>0</td>\n",
       "      <td>2</td>\n",
       "      <td>8</td>\n",
       "      <td>1</td>\n",
       "      <td>2</td>\n",
       "    </tr>\n",
       "    <tr>\n",
       "      <th>29</th>\n",
       "      <td>16</td>\n",
       "      <td>39590</td>\n",
       "      <td>2020.0</td>\n",
       "      <td>7</td>\n",
       "      <td>2</td>\n",
       "      <td>2</td>\n",
       "      <td>19160.0</td>\n",
       "      <td>0</td>\n",
       "      <td>2</td>\n",
       "      <td>8</td>\n",
       "      <td>1</td>\n",
       "      <td>3</td>\n",
       "    </tr>\n",
       "    <tr>\n",
       "      <th>30</th>\n",
       "      <td>16</td>\n",
       "      <td>30990</td>\n",
       "      <td>2017.0</td>\n",
       "      <td>39</td>\n",
       "      <td>2</td>\n",
       "      <td>2</td>\n",
       "      <td>41124.0</td>\n",
       "      <td>0</td>\n",
       "      <td>2</td>\n",
       "      <td>8</td>\n",
       "      <td>1</td>\n",
       "      <td>3</td>\n",
       "    </tr>\n",
       "    <tr>\n",
       "      <th>31</th>\n",
       "      <td>16</td>\n",
       "      <td>15000</td>\n",
       "      <td>2013.0</td>\n",
       "      <td>13</td>\n",
       "      <td>0</td>\n",
       "      <td>2</td>\n",
       "      <td>128000.0</td>\n",
       "      <td>0</td>\n",
       "      <td>0</td>\n",
       "      <td>10</td>\n",
       "      <td>1</td>\n",
       "      <td>1</td>\n",
       "    </tr>\n",
       "  </tbody>\n",
       "</table>\n",
       "</div>"
      ],
      "text/plain": [
       "    region  price    year  manufacturer  condition  fuel  odometer  \\\n",
       "27      16  33590  2014.0            14          2     2   57923.0   \n",
       "28      16  22590  2010.0             7          2     2   71229.0   \n",
       "29      16  39590  2020.0             7          2     2   19160.0   \n",
       "30      16  30990  2017.0            39          2     2   41124.0   \n",
       "31      16  15000  2013.0            13          0     2  128000.0   \n",
       "\n",
       "    title_status  transmission  type  state  price_bin  \n",
       "27             0             2     8      1          3  \n",
       "28             0             2     8      1          2  \n",
       "29             0             2     8      1          3  \n",
       "30             0             2     8      1          3  \n",
       "31             0             0    10      1          1  "
      ]
     },
     "execution_count": 22,
     "metadata": {},
     "output_type": "execute_result"
    }
   ],
   "source": [
    "gr = clean_data.groupby('price_bin').head(10)\n",
    "gr.head()"
   ]
  },
  {
   "cell_type": "code",
   "execution_count": 23,
   "metadata": {
    "colab": {
     "base_uri": "https://localhost:8080/",
     "height": 424
    },
    "id": "O5FIAGEFIu-L",
    "outputId": "baf26189-ae6d-4394-f12a-46821b849c9c"
   },
   "outputs": [
    {
     "name": "stdout",
     "output_type": "stream",
     "text": [
      "<class 'pandas.core.frame.DataFrame'>\n",
      "Int64Index: 204464 entries, 27 to 426879\n",
      "Data columns (total 12 columns):\n",
      " #   Column        Non-Null Count   Dtype  \n",
      "---  ------        --------------   -----  \n",
      " 0   region        204464 non-null  int64  \n",
      " 1   price         204464 non-null  int64  \n",
      " 2   year          204464 non-null  float64\n",
      " 3   manufacturer  204464 non-null  int64  \n",
      " 4   condition     204464 non-null  int64  \n",
      " 5   fuel          204464 non-null  int64  \n",
      " 6   odometer      204464 non-null  float64\n",
      " 7   title_status  204464 non-null  int64  \n",
      " 8   transmission  204464 non-null  int64  \n",
      " 9   type          204464 non-null  int64  \n",
      " 10  state         204464 non-null  int64  \n",
      " 11  price_bin     204464 non-null  int8   \n",
      "dtypes: float64(2), int64(9), int8(1)\n",
      "memory usage: 18.9 MB\n"
     ]
    }
   ],
   "source": [
    "clean_data.info()"
   ]
  },
  {
   "cell_type": "code",
   "execution_count": 24,
   "metadata": {
    "id": "sMJVlGWBHw55"
   },
   "outputs": [],
   "source": [
    "from sklearn.linear_model import LinearRegression\n",
    "from sklearn.model_selection import train_test_split\n",
    "\n",
    "# X = vehicles.drop(['price'], axis=1)\n",
    "target = clean_data['price_bin']\n",
    "pred = clean_data.drop(columns=['price','price_bin'])\n",
    "\n",
    "# define data training and testing from both attributes\n",
    "X_train, X_test, y_train, y_test = train_test_split(pred,target, train_size = 0.7, random_state=123)"
   ]
  },
  {
   "cell_type": "code",
   "execution_count": 25,
   "metadata": {
    "id": "SNvQa2y4H-Lh"
   },
   "outputs": [],
   "source": [
    "from sklearn.preprocessing import MinMaxScaler\n",
    "\n",
    "#define the scaler\n",
    "scaler = MinMaxScaler()\n",
    "\n",
    "x_train_transformed = scaler.fit_transform(X_train)\n",
    "x_test_transformed = scaler.transform(X_test)"
   ]
  },
  {
   "cell_type": "code",
   "execution_count": 26,
   "metadata": {
    "colab": {
     "base_uri": "https://localhost:8080/"
    },
    "id": "C0BhGTt-JhjI",
    "outputId": "8ee49dd1-2f0a-426b-aa0e-4f04463f66b0"
   },
   "outputs": [
    {
     "data": {
      "text/plain": [
       "DecisionTreeClassifier(criterion='entropy', random_state=0)"
      ]
     },
     "execution_count": 26,
     "metadata": {},
     "output_type": "execute_result"
    }
   ],
   "source": [
    "from sklearn.tree import DecisionTreeClassifier, plot_tree\n",
    "from sklearn.metrics import accuracy_score, precision_score, recall_score, f1_score\n",
    "from sklearn.model_selection import GridSearchCV\n",
    "from sklearn.neighbors import KNeighborsClassifier\n",
    "\n",
    "# Melakukan training pada model decision tree\n",
    "clf = DecisionTreeClassifier(random_state=0, criterion='entropy')\n",
    "clf.fit(x_train_transformed, y_train)\n",
    "\n",
    "# KNN\n",
    "# knn = KNeighborsClassifier(n_neighbors=5)\n",
    "# knn.fit(x_train_transformed, y_train)\n",
    "# # knn_pred = knn.predict(x_test_transformed)"
   ]
  },
  {
   "cell_type": "code",
   "execution_count": 27,
   "metadata": {
    "id": "rGRyNg1gJ42z"
   },
   "outputs": [
    {
     "name": "stdout",
     "output_type": "stream",
     "text": [
      "Akurasi: 0.7805021193348549\n",
      "Presisi: 0.7802773468802191\n",
      "Recall: 0.7805021193348549\n",
      "F1-score: 0.78038613886386\n"
     ]
    }
   ],
   "source": [
    "# Memprediksi data testing\n",
    "predicted = clf.predict(x_test_transformed)\n",
    "\n",
    "# Menampilkan metrics evaluasi berupa nilai akurasi, presisi, recall, dan F1-Score\n",
    "print(\"Akurasi:\", accuracy_score(y_test, predicted))\n",
    "print(\"Presisi:\", precision_score(y_test, predicted, average='weighted', labels=np.unique(predicted)))\n",
    "print(\"Recall:\", recall_score(y_test, predicted, average='weighted'))\n",
    "print(\"F1-score:\", f1_score(y_test, predicted, average='weighted'))"
   ]
  },
  {
   "cell_type": "code",
   "execution_count": 28,
   "metadata": {},
   "outputs": [
    {
     "name": "stdout",
     "output_type": "stream",
     "text": [
      "Hasil Prediksi:\n",
      "[3 2 0 ... 2 2 2]\n",
      "\n",
      "Ground Truth / Dataset Test Asli\n",
      "106711    3\n",
      "188539    2\n",
      "376988    1\n",
      "252575    0\n",
      "226017    2\n",
      "         ..\n",
      "279726    1\n",
      "408472    1\n",
      "304003    2\n",
      "177532    0\n",
      "412718    1\n",
      "Name: price_bin, Length: 61340, dtype: int8\n"
     ]
    }
   ],
   "source": [
    "print(\"Hasil Prediksi:\")\n",
    "prediction = clf.predict(x_test_transformed)\n",
    "print(prediction)\n",
    "\n",
    "# Bandingkan hasil prediksi diatas dengan nilai pada variabel y_test (Data asli sejumlah 30% data)\n",
    "print(\"\\nGround Truth / Dataset Test Asli\")\n",
    "print(y_test)"
   ]
  },
  {
   "cell_type": "code",
   "execution_count": null,
   "metadata": {
    "id": "a2ZFgn33QSE-"
   },
   "outputs": [],
   "source": [
    "# vehicles['condition'] = vehicles['condition'].replace(['good','fair', 'excellent', 'like new',\n",
    "#        'new','salvage'], [1,2,3,4,5,6])"
   ]
  },
  {
   "cell_type": "code",
   "execution_count": 29,
   "metadata": {},
   "outputs": [],
   "source": [
    "from sklearn.metrics import precision_score, \\\n",
    "    recall_score, classification_report, \\\n",
    "    accuracy_score, f1_score, ConfusionMatrixDisplay\n",
    "\n",
    "def evaluate_classifier_performance(classifier, prediction, y_test = y_test):\n",
    "    # Informasi evaluasi secara compact\n",
    "    print(\"Hasil Evaluasi:\\n\\n%s\\n\" % (classification_report(y_test, classifier.predict(X_test))))\n",
    "\n",
    "    # Butuh informasi lebih lengkap? silakan disimak di bawah ini\n",
    "    print('Accuracy:', accuracy_score(y_test, prediction))\n",
    "    print('Precision Macro Average:', precision_score(y_test, prediction, average='macro'))\n",
    "    print('Precision Micro Average:', precision_score(y_test, prediction, average='micro'))\n",
    "    print('Recall Macro Average:', recall_score(y_test, prediction, average='macro'))\n",
    "    print('Recall Micro Average:', recall_score(y_test, prediction, average='micro'))\n",
    "    print('F1 Macro Average:', f1_score(y_test, prediction, average='macro'))\n",
    "    print('F1 Micro Average:', f1_score(y_test, prediction, average='micro'))\n",
    "\n",
    "    # Confusion Matrix\n",
    "    print(\"\\n\\nConfusion Matrix\\n\")\n",
    "    ConfusionMatrixDisplay.from_estimator(classifier, X_test, y_test)"
   ]
  },
  {
   "cell_type": "code",
   "execution_count": 30,
   "metadata": {},
   "outputs": [
    {
     "name": "stderr",
     "output_type": "stream",
     "text": [
      "/usr/local/lib/python3.9/site-packages/sklearn/base.py:438: UserWarning: X has feature names, but DecisionTreeClassifier was fitted without feature names\n",
      "  warnings.warn(\n"
     ]
    },
    {
     "name": "stdout",
     "output_type": "stream",
     "text": [
      "Hasil Evaluasi:\n",
      "\n",
      "              precision    recall  f1-score   support\n",
      "\n",
      "           0       0.31      0.55      0.39     15518\n",
      "           1       0.14      0.00      0.01     14989\n",
      "           2       0.30      0.63      0.41     15998\n",
      "           3       0.20      0.00      0.00     14835\n",
      "\n",
      "    accuracy                           0.30     61340\n",
      "   macro avg       0.24      0.29      0.20     61340\n",
      "weighted avg       0.24      0.30      0.21     61340\n",
      "\n",
      "\n",
      "Accuracy: 0.7805021193348549\n",
      "Precision Macro Average: 0.7806378552388784\n",
      "Precision Micro Average: 0.7805021193348549\n",
      "Recall Macro Average: 0.780824236661489\n",
      "Recall Micro Average: 0.7805021193348549\n",
      "F1 Macro Average: 0.7807273959062098\n",
      "F1 Micro Average: 0.7805021193348549\n",
      "\n",
      "\n",
      "Confusion Matrix\n",
      "\n"
     ]
    },
    {
     "name": "stderr",
     "output_type": "stream",
     "text": [
      "/usr/local/lib/python3.9/site-packages/sklearn/base.py:438: UserWarning: X has feature names, but DecisionTreeClassifier was fitted without feature names\n",
      "  warnings.warn(\n"
     ]
    },
    {
     "data": {
      "image/png": "[encoded data removed]",
      "text/plain": [
       "<Figure size 432x288 with 2 Axes>"
      ]
     },
     "metadata": {
      "needs_background": "light"
     },
     "output_type": "display_data"
    }
   ],
   "source": [
    "# Memanggil fungsi evaluasi untuk MLP Classifier\n",
    "evaluate_classifier_performance(clf, predicted)"
   ]
  },
  {
   "cell_type": "markdown",
   "metadata": {
    "id": "xNlUpIw6LS-k"
   },
   "source": [
    "#### Iklan Palsu"
   ]
  },
  {
   "cell_type": "markdown",
   "metadata": {
    "id": "WTKJHm0ZDuBN"
   },
   "source": [
    "# Eksplor CG"
   ]
  },
  {
   "cell_type": "code",
   "execution_count": null,
   "metadata": {
    "colab": {
     "base_uri": "https://localhost:8080/",
     "height": 549
    },
    "id": "vtTPQ_If35QK",
    "outputId": "58150585-b4f3-430a-cb6b-d3139982b54d"
   },
   "outputs": [
    {
     "data": {
      "text/plain": [
       "<matplotlib.axes._subplots.AxesSubplot at 0x7f4d9688de90>"
      ]
     },
     "execution_count": 10,
     "metadata": {},
     "output_type": "execute_result"
    },
    {
     "data": {
      "image/png": "[encoded data removed]",
      "text/plain": [
       "<Figure size 720x576 with 2 Axes>"
      ]
     },
     "metadata": {
      "needs_background": "light"
     },
     "output_type": "display_data"
    }
   ],
   "source": [
    "# Check correlation for numerical attribute\n",
    "# f, ax = plt.subplots(figsize=(10, 8))\n",
    "# corr = vehicles.corr()\n",
    "# sns.heatmap(corr, mask=np.zeros_like(corr, dtype=np.bool), cmap=sns.diverging_palette(220, 10, as_cmap=True), annot=True, ax=ax)"
   ]
  }
 ],
 "metadata": {
  "colab": {
   "collapsed_sections": [],
   "name": "CG_F_Naevis.ipynb",
   "provenance": []
  },
  "kernelspec": {
   "display_name": "Python 3 (ipykernel)",
   "language": "python",
   "name": "python3"
  },
  "language_info": {
   "codemirror_mode": {
    "name": "ipython",
    "version": 3
   },
   "file_extension": ".py",
   "mimetype": "text/x-python",
   "name": "python",
   "nbconvert_exporter": "python",
   "pygments_lexer": "ipython3",
   "version": "3.9.7"
  }
 },
 "nbformat": 4,
 "nbformat_minor": 4
}
